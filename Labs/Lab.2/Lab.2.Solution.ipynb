{
 "cells": [
  {
   "cell_type": "markdown",
   "metadata": {},
   "source": [
    "## Lab 2- Tic Tac Toe\n",
    "\n",
    "In this lab your will build a n x n Tic Tac Toe game. As you do the exercises, make sure your solutions work for any size Tic Tac Toe game. "
   ]
  },
  {
   "cell_type": "markdown",
   "metadata": {},
   "source": [
    "*Exercise 1:* Write a function that creates an n by n matrix (of list of lists) which will represent the state of a Tie Tac Toe game. Let 0, 1, and 2 represent empty, \"X\", and \"O\", respectively.\n"
   ]
  },
  {
   "cell_type": "code",
   "execution_count": 23,
   "metadata": {
    "collapsed": true
   },
   "outputs": [],
   "source": [
    "# Write you solution here\n",
    "\n",
    "def create_tic_tac_toe_board(n):\n",
    "    return [[0 for _ in range(n)] for _ in range(n)]\n",
    "\n",
    "def print_tic_tac_toe_board(board):\n",
    "    tt_state = {0: \" \", 1: \"X\", 2: \"O\"}\n",
    "    for row in board:\n",
    "        print(' '.join(tt_state.get(cell, str(cell)) for cell in row))\n",
    "\n"
   ]
  },
  {
   "cell_type": "code",
   "execution_count": 118,
   "metadata": {
    "collapsed": true
   },
   "outputs": [
    {
     "name": "stdout",
     "output_type": "stream",
     "text": [
      "     \n",
      "     \n",
      "     \n"
     ]
    }
   ],
   "source": [
    "# Test your solution here\n",
    "\n",
    "n = 3\n",
    "board = create_tic_tac_toe_board(n)\n",
    "print_tic_tac_toe_board(board)\n"
   ]
  },
  {
   "cell_type": "markdown",
   "metadata": {},
   "source": [
    "*Exercise 2:* Write a function that takes 2 integers `n` and `m` as input and draws a `n` by `m` game board. For example the following is a 3x3 board:\n",
    "```\n",
    "   --- --- --- \n",
    "  |   |   |   | \n",
    "   --- --- ---  \n",
    "  |   |   |   | \n",
    "   --- --- ---  \n",
    "  |   |   |   | \n",
    "   --- --- --- \n",
    "   ```"
   ]
  },
  {
   "cell_type": "code",
   "execution_count": 36,
   "metadata": {
    "collapsed": true
   },
   "outputs": [],
   "source": [
    "# Write you solution here\n",
    "\n",
    "def create_tic_tac_toe_board(n,m):\n",
    "    return [[' ' for _ in range(m)] for _ in range(n)]\n",
    "    \n",
    "def print_tic_tac_toe_board(board, m):\n",
    "    for row in board:\n",
    "        print(\" ---\" * m)\n",
    "        print(\"| \" + \" | \".join(row)+ \" |\")\n",
    "    print(\" ---\" * m)"
   ]
  },
  {
   "cell_type": "code",
   "execution_count": 38,
   "metadata": {
    "collapsed": true
   },
   "outputs": [
    {
     "name": "stdout",
     "output_type": "stream",
     "text": [
      " --- --- --- ---\n",
      "|   |   |   |   |\n",
      " --- --- --- ---\n",
      "|   |   |   |   |\n",
      " --- --- --- ---\n",
      "|   |   |   |   |\n",
      " --- --- --- ---\n",
      "|   |   |   |   |\n",
      " --- --- --- ---\n"
     ]
    }
   ],
   "source": [
    "# Test your solution here\n",
    "n = 4\n",
    "m = 4\n",
    "\n",
    "board = create_tic_tac_toe_board(n, m)\n",
    "print_tic_tac_toe_board(board, m)"
   ]
  },
  {
   "cell_type": "markdown",
   "metadata": {},
   "source": [
    "*Exercise 3:* Modify exercise 2, so that it takes a matrix of the form from exercise 1 and draws a tic-tac-tie board with \"X\"s and \"O\"s.  "
   ]
  },
  {
   "cell_type": "code",
   "execution_count": 108,
   "metadata": {
    "collapsed": true
   },
   "outputs": [],
   "source": [
    "import random\n",
    "\n",
    "# Write you solution here\n",
    "\n",
    "def draw_example_tic_tac_toe_board(n):\n",
    "    return [[random.choice([1, 2]) for _ in range(n)] for _ in range(n)]\n",
    "\n",
    "def print_tic_tac_toe_board(board,n):\n",
    "    tt_state = {0: \" \", 1: \"X\", 2: \"O\"}\n",
    "    for row in board:\n",
    "        print(\" ---\" * n)\n",
    "        print(\"| \" + \" | \".join(tt_state.get(cell, str(cell)) for cell in row)+ \" |\")\n",
    "    print(\" ---\" * n)"
   ]
  },
  {
   "cell_type": "code",
   "execution_count": 109,
   "metadata": {
    "collapsed": true
   },
   "outputs": [
    {
     "name": "stdout",
     "output_type": "stream",
     "text": [
      " --- --- ---\n",
      "| X | O | O |\n",
      " --- --- ---\n",
      "| X | X | O |\n",
      " --- --- ---\n",
      "| X | O | O |\n",
      " --- --- ---\n"
     ]
    }
   ],
   "source": [
    "# Test your solution here\n",
    "n = 3\n",
    "\n",
    "board = draw_example_tic_tac_toe_board(n)\n",
    "print_tic_tac_toe_board(board,n)"
   ]
  },
  {
   "cell_type": "markdown",
   "metadata": {},
   "source": [
    "*Exercise 4:* Write a function that takes a `n` by `n` matrix representing a tic-tac-toe game, and returns -1, 0, 1, or 2 indicating the game is incomplete, the game is a draw, player 1 has won, or player 2 has one, respectively. Here are some example inputs you can use to test your code:"
   ]
  },
  {
   "cell_type": "code",
   "execution_count": 86,
   "metadata": {
    "collapsed": true
   },
   "outputs": [],
   "source": [
    "# Write you solution here\n",
    "def check_winner(board,n):\n",
    "\n",
    "    # Check rows\n",
    "    for row in board:\n",
    "        if all(x == row[0] for x in row) and row[0] != 0:\n",
    "            return row[0]\n",
    "    \n",
    "    # Check columns\n",
    "    for i in range(n):\n",
    "        if all(board[j][i] == board[0][i] for j in range(n)) and board[0][i] != 0:\n",
    "            return board[0][i]\n",
    "    \n",
    "    \n",
    "    # Check diagonals\n",
    "    if all(board[i][i] == board[0][0] for i in range(n)) and board[0][0] != 0:\n",
    "        return board[0][0]\n",
    "    if all(board[i][n-i-1] == board[0][n-1] for i in range(n)) and board[0][n-1] != 0:\n",
    "        return board[0][n-1]\n",
    "    \n",
    "      \n",
    "    incomplete = any(cell == 0 for row in board for cell in row)\n",
    "\n",
    "    if incomplete:\n",
    "        return -1\n",
    "\n",
    "    \n",
    "    return 0\n",
    "\n"
   ]
  },
  {
   "cell_type": "code",
   "execution_count": 16,
   "metadata": {
    "collapsed": true
   },
   "outputs": [],
   "source": [
    "winner_is_2 = [[2, 2, 0],\n",
    "\t[2, 1, 0],\n",
    "\t[2, 1, 1]]\n",
    "\n",
    "winner_is_1 = [[1, 2, 0],\n",
    "\t[2, 1, 0],\n",
    "\t[2, 1, 1]]\n",
    "\n",
    "winner_is_also_1 = [[0, 1, 0],\n",
    "\t[2, 1, 0],\n",
    "\t[2, 1, 1]]\n",
    "\n",
    "no_winner = [[1, 2, 0],\n",
    "\t[2, 1, 0],\n",
    "\t[2, 1, 2]]\n",
    "\n",
    "also_no_winner = [[1, 2, 0],\n",
    "\t[2, 1, 0],\n",
    "\t[2, 1, 0]]"
   ]
  },
  {
   "cell_type": "code",
   "execution_count": 87,
   "metadata": {},
   "outputs": [
    {
     "name": "stdout",
     "output_type": "stream",
     "text": [
      "2\n",
      "1\n",
      "1\n",
      "-1\n",
      "-1\n"
     ]
    }
   ],
   "source": [
    "# Test your solution here\n",
    "\n",
    "n = 3\n",
    "\n",
    "print(check_winner(winner_is_2, n)) # 2\n",
    "print(check_winner(winner_is_1, n)) # 1\n",
    "print(check_winner(winner_is_also_1, n)) # 1\n",
    "print(check_winner(no_winner, n)) # -1\n",
    "print(check_winner(also_no_winner, n)) # -1"
   ]
  },
  {
   "cell_type": "markdown",
   "metadata": {},
   "source": [
    "*Exercise 5:* Write a function that takes a game board, player number, and `(x,y)` coordinates and places \"X\" or \"O\" in the correct location of the game board. Make sure that you only allow filling previously empty locations. Return `True` or `False` to indicate successful placement of \"X\" or \"O\"."
   ]
  },
  {
   "cell_type": "code",
   "execution_count": 41,
   "metadata": {
    "collapsed": true
   },
   "outputs": [],
   "source": [
    "# Write you solution here\n",
    "def place(board, player, row, col):\n",
    "    if board[row][col] == 0:\n",
    "        board[row][col] = player\n",
    "        return True\n",
    "    return False"
   ]
  },
  {
   "cell_type": "code",
   "execution_count": 95,
   "metadata": {
    "collapsed": true
   },
   "outputs": [
    {
     "name": "stdout",
     "output_type": "stream",
     "text": [
      "True\n"
     ]
    }
   ],
   "source": [
    "# Test your solution here\n",
    "\n",
    "#empty board\n",
    "n = 3\n",
    "board = [[0, 0, 0], [0, 0, 0], [0, 0, 0]]\n",
    "\n",
    "result = place(board, 1, 0, 0)\n",
    "\n",
    "print(result) # True"
   ]
  },
  {
   "cell_type": "markdown",
   "metadata": {},
   "source": [
    "*Exercise 6:* Modify Exercise 3 to show column and row labels so that players can specify location using \"A2\" or \"C1\"."
   ]
  },
  {
   "cell_type": "code",
   "execution_count": 96,
   "metadata": {
    "collapsed": true
   },
   "outputs": [],
   "source": [
    "# Write you solution here\n",
    "def print_tic_tac_toe_board(board,n):\n",
    "    tt_state = {0: \" \", 1: \"X\", 2: \"O\"}\n",
    "    row_label = [chr(65 + i) for i in range(n)]\n",
    "    col_label = [str(1 + i) for i in range(n)]\n",
    "    print(\"    \" + \"   \".join(col_label))\n",
    "    for i, row in enumerate(board):\n",
    "        print(f\"   --- {'--- ' * (n-1)}\")\n",
    "        print(f\"{row_label[i]} | \" + \" | \".join(tt_state.get(cell, str(cell)) for cell in row)+ \" |\")\n",
    "    print(f\"   --- {'--- ' * (n-1)}\")"
   ]
  },
  {
   "cell_type": "code",
   "execution_count": 98,
   "metadata": {
    "collapsed": true
   },
   "outputs": [
    {
     "name": "stdout",
     "output_type": "stream",
     "text": [
      "    1   2   3\n",
      "   --- --- --- \n",
      "A | X |   |   |\n",
      "   --- --- --- \n",
      "B |   |   |   |\n",
      "   --- --- --- \n",
      "C |   |   |   |\n",
      "   --- --- --- \n"
     ]
    }
   ],
   "source": [
    "# Test your solution here\n",
    "n = 3\n",
    "print_tic_tac_toe_board(board,n)"
   ]
  },
  {
   "cell_type": "markdown",
   "metadata": {},
   "source": [
    "*Exercise 7:* Write a function that takes a board, player number, and location specified as in exercise 6 and then calls exercise 5 to correctly modify the board.  "
   ]
  },
  {
   "cell_type": "code",
   "execution_count": 101,
   "metadata": {
    "collapsed": true
   },
   "outputs": [],
   "source": [
    "# Write you solution here\n",
    "def get_location(move,n):\n",
    "    row_label = [chr(65 + i) for i in range(n)]\n",
    "    col_label = [str(1 + i) for i in range(n)]\n",
    "    row, col = move[0].upper(), move[1]\n",
    "    if row in row_label and col in col_label:\n",
    "        row = row_label.index(row)\n",
    "        col = col_label.index(col)\n",
    "        return row, col\n",
    "    return None\n"
   ]
  },
  {
   "cell_type": "code",
   "execution_count": 102,
   "metadata": {
    "collapsed": true
   },
   "outputs": [
    {
     "name": "stdout",
     "output_type": "stream",
     "text": [
      "    1   2   3\n",
      "   --- --- --- \n",
      "A |   |   |   |\n",
      "   --- --- --- \n",
      "B | X |   |   |\n",
      "   --- --- --- \n",
      "C |   |   |   |\n",
      "   --- --- --- \n"
     ]
    }
   ],
   "source": [
    "# Test your solution here\n",
    "n = 3\n",
    "location = get_location('B1',n)\n",
    "\n",
    "board = create_tic_tac_toe_board(n)\n",
    "\n",
    "place(board, 1, location[0], location[1])\n",
    "\n",
    "print_tic_tac_toe_board(board,n)"
   ]
  },
  {
   "cell_type": "markdown",
   "metadata": {},
   "source": [
    "*Exercise 8:* Write a function is called with a board and player number, takes input from the player using python's `input`, and modifies the board using your function from exercise 7. Note that you should keep asking for input until you have gotten a valid input that results in a valid move."
   ]
  },
  {
   "cell_type": "code",
   "execution_count": 105,
   "metadata": {
    "collapsed": true
   },
   "outputs": [],
   "source": [
    "# Write you solution here\n",
    "def get_move(board, player_n, n):\n",
    "    move = input(f\"Player {player_n} enter your move (e.g. A1): \")\n",
    "    location = get_location(move,n)\n",
    "\n",
    "    if location is not None:\n",
    "        if place(board, player_n, location[0], location[1]):\n",
    "            return True\n",
    "        print(\"Invalid choice location, please try again.\") \n",
    "        return False\n",
    "            \n",
    "    print(\"Invalid choice location, please try again.\")\n",
    "    return False\n"
   ]
  },
  {
   "cell_type": "code",
   "execution_count": 107,
   "metadata": {
    "collapsed": true
   },
   "outputs": [
    {
     "name": "stdout",
     "output_type": "stream",
     "text": [
      "Move successful.\n",
      "Resulting Board: \n",
      "    1   2   3\n",
      "   --- --- --- \n",
      "A | X |   |   |\n",
      "   --- --- --- \n",
      "B |   |   |   |\n",
      "   --- --- --- \n",
      "C |   |   |   |\n",
      "   --- --- --- \n"
     ]
    }
   ],
   "source": [
    "# Test your solution here\n",
    "n = 3\n",
    "board = create_tic_tac_toe_board(n)\n",
    "\n",
    "result = False\n",
    "\n",
    "while not result:\n",
    "    result = get_move(board, int(input(\"Enter player number: \")),n)\n",
    "    \n",
    "print(\"Move successful.\")\n",
    "\n",
    "print(\"Resulting Board: \")\n",
    "print_tic_tac_toe_board(board,n)"
   ]
  },
  {
   "cell_type": "markdown",
   "metadata": {},
   "source": [
    "*Exercise 9:* Use all of the previous exercises to implement a full tic-tac-toe game, where an appropriate board is drawn, 2 players are repeatedly asked for a location coordinates of where they wish to place a mark, and the game status is checked until a player wins or a draw occurs."
   ]
  },
  {
   "cell_type": "code",
   "execution_count": 108,
   "metadata": {
    "collapsed": true
   },
   "outputs": [],
   "source": [
    "# Write you solution here\n",
    "def play_game(board, n):\n",
    "\n",
    "    result = False\n",
    "    player_n = 1\n",
    "\n",
    "    while check_winner(board,n) == -1:\n",
    "        print_tic_tac_toe_board(board,n)\n",
    "        while not result:\n",
    "            result = get_move(board, player_n, n)\n",
    "        player_n = 2 if player_n == 1 else 1\n",
    "        result = False\n",
    "\n",
    "    print_tic_tac_toe_board(board,n)\n",
    "    winner = check_winner(board,n)\n",
    "    if winner == 0:\n",
    "        print(\"Game is a draw.\")\n",
    "    else:\n",
    "        print(f\"Player {winner} wins.\")\n"
   ]
  },
  {
   "cell_type": "code",
   "execution_count": 88,
   "metadata": {
    "collapsed": true
   },
   "outputs": [
    {
     "name": "stdout",
     "output_type": "stream",
     "text": [
      "    1   2   3\n",
      "   --- --- --- \n",
      "A |   |   |   |\n",
      "   --- --- --- \n",
      "B |   |   |   |\n",
      "   --- --- --- \n",
      "C |   |   |   |\n",
      "   --- --- --- \n",
      "    1   2   3\n",
      "   --- --- --- \n",
      "A | X |   |   |\n",
      "   --- --- --- \n",
      "B |   |   |   |\n",
      "   --- --- --- \n",
      "C |   |   |   |\n",
      "   --- --- --- \n",
      "    1   2   3\n",
      "   --- --- --- \n",
      "A | X |   |   |\n",
      "   --- --- --- \n",
      "B | O |   |   |\n",
      "   --- --- --- \n",
      "C |   |   |   |\n",
      "   --- --- --- \n",
      "    1   2   3\n",
      "   --- --- --- \n",
      "A | X |   |   |\n",
      "   --- --- --- \n",
      "B | O | X |   |\n",
      "   --- --- --- \n",
      "C |   |   |   |\n",
      "   --- --- --- \n",
      "    1   2   3\n",
      "   --- --- --- \n",
      "A | X |   |   |\n",
      "   --- --- --- \n",
      "B | O | X |   |\n",
      "   --- --- --- \n",
      "C | O |   |   |\n",
      "   --- --- --- \n",
      "    1   2   3\n",
      "   --- --- --- \n",
      "A | X |   |   |\n",
      "   --- --- --- \n",
      "B | O | X |   |\n",
      "   --- --- --- \n",
      "C | O |   | X |\n",
      "   --- --- --- \n",
      "Player 1 wins.\n"
     ]
    }
   ],
   "source": [
    "# Test your solution here\n",
    "n = 3\n",
    "board = create_tic_tac_toe_board(n)\n",
    "play_game(board, n)"
   ]
  },
  {
   "cell_type": "markdown",
   "metadata": {},
   "source": [
    "*Exercise 10:* Test that your game works for 5x5 Tic Tac Toe.  "
   ]
  },
  {
   "cell_type": "code",
   "execution_count": 109,
   "metadata": {
    "collapsed": true
   },
   "outputs": [
    {
     "name": "stdout",
     "output_type": "stream",
     "text": [
      "    1   2   3   4   5\n",
      "   --- --- --- --- --- \n",
      "A |   |   |   |   |   |\n",
      "   --- --- --- --- --- \n",
      "B |   |   |   |   |   |\n",
      "   --- --- --- --- --- \n",
      "C |   |   |   |   |   |\n",
      "   --- --- --- --- --- \n",
      "D |   |   |   |   |   |\n",
      "   --- --- --- --- --- \n",
      "E |   |   |   |   |   |\n",
      "   --- --- --- --- --- \n",
      "    1   2   3   4   5\n",
      "   --- --- --- --- --- \n",
      "A |   |   |   |   |   |\n",
      "   --- --- --- --- --- \n",
      "B |   |   |   |   |   |\n",
      "   --- --- --- --- --- \n",
      "C |   |   |   |   |   |\n",
      "   --- --- --- --- --- \n",
      "D |   |   |   |   |   |\n",
      "   --- --- --- --- --- \n",
      "E |   |   | X |   |   |\n",
      "   --- --- --- --- --- \n",
      "    1   2   3   4   5\n",
      "   --- --- --- --- --- \n",
      "A | O |   |   |   |   |\n",
      "   --- --- --- --- --- \n",
      "B |   |   |   |   |   |\n",
      "   --- --- --- --- --- \n",
      "C |   |   |   |   |   |\n",
      "   --- --- --- --- --- \n",
      "D |   |   |   |   |   |\n",
      "   --- --- --- --- --- \n",
      "E |   |   | X |   |   |\n",
      "   --- --- --- --- --- \n",
      "    1   2   3   4   5\n",
      "   --- --- --- --- --- \n",
      "A | O |   |   |   |   |\n",
      "   --- --- --- --- --- \n",
      "B |   |   |   |   |   |\n",
      "   --- --- --- --- --- \n",
      "C |   |   |   |   |   |\n",
      "   --- --- --- --- --- \n",
      "D |   |   |   |   |   |\n",
      "   --- --- --- --- --- \n",
      "E | X |   | X |   |   |\n",
      "   --- --- --- --- --- \n",
      "    1   2   3   4   5\n",
      "   --- --- --- --- --- \n",
      "A | O |   |   |   |   |\n",
      "   --- --- --- --- --- \n",
      "B |   | O |   |   |   |\n",
      "   --- --- --- --- --- \n",
      "C |   |   |   |   |   |\n",
      "   --- --- --- --- --- \n",
      "D |   |   |   |   |   |\n",
      "   --- --- --- --- --- \n",
      "E | X |   | X |   |   |\n",
      "   --- --- --- --- --- \n",
      "    1   2   3   4   5\n",
      "   --- --- --- --- --- \n",
      "A | O |   |   |   |   |\n",
      "   --- --- --- --- --- \n",
      "B |   | O |   |   |   |\n",
      "   --- --- --- --- --- \n",
      "C |   |   |   |   |   |\n",
      "   --- --- --- --- --- \n",
      "D |   |   |   |   |   |\n",
      "   --- --- --- --- --- \n",
      "E | X | X | X |   |   |\n",
      "   --- --- --- --- --- \n",
      "    1   2   3   4   5\n",
      "   --- --- --- --- --- \n",
      "A | O |   |   |   |   |\n",
      "   --- --- --- --- --- \n",
      "B |   | O | O |   |   |\n",
      "   --- --- --- --- --- \n",
      "C |   |   |   |   |   |\n",
      "   --- --- --- --- --- \n",
      "D |   |   |   |   |   |\n",
      "   --- --- --- --- --- \n",
      "E | X | X | X |   |   |\n",
      "   --- --- --- --- --- \n",
      "    1   2   3   4   5\n",
      "   --- --- --- --- --- \n",
      "A | O |   |   |   |   |\n",
      "   --- --- --- --- --- \n",
      "B |   | O | O |   |   |\n",
      "   --- --- --- --- --- \n",
      "C |   |   |   |   |   |\n",
      "   --- --- --- --- --- \n",
      "D |   |   |   |   |   |\n",
      "   --- --- --- --- --- \n",
      "E | X | X | X | X |   |\n",
      "   --- --- --- --- --- \n",
      "    1   2   3   4   5\n",
      "   --- --- --- --- --- \n",
      "A | O |   |   |   |   |\n",
      "   --- --- --- --- --- \n",
      "B |   | O | O |   |   |\n",
      "   --- --- --- --- --- \n",
      "C | O |   |   |   |   |\n",
      "   --- --- --- --- --- \n",
      "D |   |   |   |   |   |\n",
      "   --- --- --- --- --- \n",
      "E | X | X | X | X |   |\n",
      "   --- --- --- --- --- \n",
      "    1   2   3   4   5\n",
      "   --- --- --- --- --- \n",
      "A | O |   |   |   |   |\n",
      "   --- --- --- --- --- \n",
      "B |   | O | O |   |   |\n",
      "   --- --- --- --- --- \n",
      "C | O |   |   |   |   |\n",
      "   --- --- --- --- --- \n",
      "D |   |   |   |   |   |\n",
      "   --- --- --- --- --- \n",
      "E | X | X | X | X | X |\n",
      "   --- --- --- --- --- \n",
      "Player 1 wins.\n"
     ]
    }
   ],
   "source": [
    "# Test your solution here\n",
    "n = 5\n",
    "board = create_tic_tac_toe_board(n)\n",
    "play_game(board, n)"
   ]
  },
  {
   "cell_type": "markdown",
   "metadata": {},
   "source": [
    "*Exercise 11:* (Advanced / Challenge) Develop a version of the game where one player is the computer. Note that you don't need to do an extensive seach for the best move. You can have the computer simply protect against loosing and otherwise try to win with straight or diagonal patterns."
   ]
  },
  {
   "cell_type": "code",
   "execution_count": 113,
   "metadata": {
    "collapsed": true
   },
   "outputs": [],
   "source": [
    "# Write you solution here\n",
    "def make_computer_move(board, n):\n",
    "    # Check if the computer can win in the next move\n",
    "    for i in range(n):\n",
    "        for j in range(n):\n",
    "            if board[i][j] == 0:\n",
    "                board[i][j] = 2\n",
    "                if check_winner(board, n) == 2:\n",
    "                    board[i][j] = 2\n",
    "                    return\n",
    "                board[i][j] = 0\n",
    "\n",
    "    # Check if the opponent can win in the next move and block them\n",
    "    for i in range(n):\n",
    "        for j in range(n):\n",
    "            if board[i][j] == 0:\n",
    "                board[i][j] = 1\n",
    "                if check_winner(board, n) == 1:\n",
    "                    board[i][j] = 2\n",
    "                    return\n",
    "            \n",
    "\n",
    "    # Otherwise, make a random move\n",
    "    empty_cells = [(i, j) for i in range(n) for j in range(n) if board[i][j] == 0]\n",
    "    if empty_cells:\n",
    "        move = random.choice(empty_cells)\n",
    "        board[move[0]][move[1]] = 2\n",
    "        return\n",
    "\n",
    "#Modify the play_game function to include the computer move\n",
    "def play_game(board, n):\n",
    "\n",
    "    result = False\n",
    "\n",
    "    while check_winner(board,n) == -1:\n",
    "        print_tic_tac_toe_board(board, n)\n",
    "        while not result:\n",
    "            result = get_move(board, 1, n)\n",
    "        make_computer_move(board, n)\n",
    "        result = False\n",
    "\n",
    "    print_tic_tac_toe_board(board,n)\n",
    "    winner = check_winner(board,n)\n",
    "    if winner == 0:\n",
    "        print(\"Game is a draw.\")\n",
    "    elif winner == 1 :\n",
    "        print(f\"You win!\")\n",
    "    else:\n",
    "        print(\"Computer wins.\")\n"
   ]
  },
  {
   "cell_type": "code",
   "execution_count": 114,
   "metadata": {
    "collapsed": true
   },
   "outputs": [
    {
     "name": "stdout",
     "output_type": "stream",
     "text": [
      "    1   2   3\n",
      "   --- --- --- \n",
      "A |   |   |   |\n",
      "   --- --- --- \n",
      "B |   |   |   |\n",
      "   --- --- --- \n",
      "C |   |   |   |\n",
      "   --- --- --- \n",
      "    1   2   3\n",
      "   --- --- --- \n",
      "A | X | X | O |\n",
      "   --- --- --- \n",
      "B |   |   |   |\n",
      "   --- --- --- \n",
      "C |   |   |   |\n",
      "   --- --- --- \n",
      "Invalid choice location, please try again.\n",
      "    1   2   3\n",
      "   --- --- --- \n",
      "A | X | X | O |\n",
      "   --- --- --- \n",
      "B | O |   |   |\n",
      "   --- --- --- \n",
      "C | X |   |   |\n",
      "   --- --- --- \n",
      "    1   2   3\n",
      "   --- --- --- \n",
      "A | X | X | O |\n",
      "   --- --- --- \n",
      "B | O | X | X |\n",
      "   --- --- --- \n",
      "C | X | O |   |\n",
      "   --- --- --- \n",
      "    1   2   3\n",
      "   --- --- --- \n",
      "A | X | X | O |\n",
      "   --- --- --- \n",
      "B | O | X | X |\n",
      "   --- --- --- \n",
      "C | X | O | X |\n",
      "   --- --- --- \n",
      "Player 1 wins.\n"
     ]
    }
   ],
   "source": [
    "# Test your solution here\n",
    "\n",
    "n = 3\n",
    "board = create_tic_tac_toe_board(n)\n",
    "play_game(board, n)"
   ]
  }
 ],
 "metadata": {
  "kernelspec": {
   "display_name": "Python 3",
   "language": "python",
   "name": "python3"
  },
  "language_info": {
   "codemirror_mode": {
    "name": "ipython",
    "version": 3
   },
   "file_extension": ".py",
   "mimetype": "text/x-python",
   "name": "python",
   "nbconvert_exporter": "python",
   "pygments_lexer": "ipython3",
   "version": "3.12.1"
  }
 },
 "nbformat": 4,
 "nbformat_minor": 2
}
