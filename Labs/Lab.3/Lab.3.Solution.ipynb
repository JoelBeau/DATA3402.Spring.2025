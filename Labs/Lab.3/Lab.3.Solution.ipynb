{
 "cells": [
  {
   "cell_type": "markdown",
   "metadata": {},
   "source": [
    "# Lab 3\n",
    "\n",
    "In this lab we will become familiar with distributions, histograms, and functional programming. Do not use numpy or any other library for this lab.\n",
    "\n",
    "Before that, lets get setup homework submission and submit your previous lab.  \n",
    "\n",
    "## Working on the Command-line.\n",
    "\n",
    "It is important for you to learn to work on the command line and to be familiar with the Unix environment (e.g. Linux, Mac OS, or Windows Linux Subsystem). We'll go over working on the command-line in detail later in the course.\n",
    "\n",
    "You are required to submit your work in this course via GitHub. Today in class, you will setup everything on the command-line.\n",
    "\n",
    "### Command-line basics\n",
    "\n",
    "There is plenty of material online that will help you figure out how to do various tasks on the command line. Commands you may need to know today:\n",
    "\n",
    "* `ls`: lists the contents of the current directory.\n",
    "* `pwd`: prints the path of the current directory.\n",
    "* `cd <directory>`: changes your current directory to the specified directory.\n",
    "* `cd ..`: changes current directory to the previous directory. Basically steps out of the current directory to the directory containing the current directory.\n",
    "* `mkdir <directory>`: create a new directory with the specified name.\n",
    "* `rmdir <directory>`: removes the specified directory. Note it has to be empty.\n",
    "* `rm <filename>`: deletes the specified file.\n",
    "* `mv <filename 1> <filename 2>`: Moves or renames a file.\n",
    "* `cp <filename 1> <filename 2>`: copies an file. If you just provide a path to a directory, it copies the file into that directory with the same filename. If you specifiy a new filename, the copy has a new name. For example `cp File.1.txt File.2.txt` creates a copy of `File.1.txt` with the name `File.2.txt`. Meanwhile `cp File.1.txt my_directory`, where `my_directory` is a directory, creates a copy of `File.1.txt` in directory `my_directory` with the name `File.1.txt`.\n",
    "\n",
    "For reference, here are some example resources I found by googling:\n",
    "\n",
    "* Paths and Wildcards: https://www.warp.dev/terminus/linux-wildcards\n",
    "* Basic commands like copy: https://kb.iu.edu/d/afsk\n",
    "* General introduction to shell: https://github-pages.ucl.ac.uk/RCPSTrainingMaterials/HPCandHTCusingLegion/2_intro_to_shell.html\n",
    "* Manual pages: https://www.geeksforgeeks.org/linux-man-page-entries-different-types/?ref=ml_lbp\n",
    "* Chaining commands: https://www.geeksforgeeks.org/chaining-commands-in-linux/?ref=ml_lbp\n",
    "* Piping: https://www.geeksforgeeks.org/piping-in-unix-or-linux/\n",
    "* Using sed: https://www.geeksforgeeks.org/sed-command-linux-set-2/?ref=ml_lbp\n",
    "* Various Unix commands: https://www.geeksforgeeks.org/linux-commands/?ref=lbp\n",
    "* Cheat sheets:\n",
    "    * https://www.stationx.net/unix-commands-cheat-sheet/\n",
    "    * https://cheatography.com/davechild/cheat-sheets/linux-command-line/\n",
    "    * https://www.theknowledgeacademy.com/blog/unix-commands-cheat-sheet/\n",
    "    \n",
    "These aren't necessarily the best resources. Feel free to search for better ones. Also, don't forget that Unix has built-in manual pages for all of its commands. Just type `man <command>` at the command prompt. Use the space-bar to scroll through the documentation and \"q\" to exit.\n",
    "\n",
    "\n",
    "### Setup and Submission\n",
    "\n",
    "Our course repository is public. The instructions here aim to have you setup a fork of the course repository. Unfortunately because you are forking a public repo, your fork will have to be public also. \n",
    "\n",
    "You should be familiar with git from the first semester of this course. I assume that you all have github accounts and have setup things to be able to [push to github using ssh](https://docs.github.com/en/github/authenticating-to-github/connecting-to-github-with-ssh). The instuctions here lead you to:\n",
    "\n",
    "We'll overview what you will do before going through step by step instructions.\n",
    "\n",
    "1. Setup:\n",
    "    1. Fork the class repository. Some directions in [fork-a-repo](https://docs.github.com/en/github/getting-started-with-github/fork-a-repo).\n",
    "    1. Create a directory on your personal system where you will keep all course materials.\n",
    "    1. In that directory, clone your fork of the repository.\n",
    "    1. Using `git remote`, set the upstream to be the class repo, so you can pull from the class and push to your fork.\n",
    "\n",
    "1. Submission:\n",
    "    1. Copy your solutions into the appropriate directory (e.g. into `Labs/Lab.2/`) and with appropriate filename `Lab.2.solution.ipynb'.\n",
    "    1. Commit / push your solutions.\n",
    "    1. Grant access to course instructors.\n",
    "\n",
    "Below are step by step instructions with examples (including example directory naming convention). Feel free to modify things as you see fit. \n",
    "\n",
    "#### Setup\n",
    "You should only need to follow this instructions once. Here are some useful git commands:\n",
    "\n",
    "* Git help: `git help`\n",
    "* Git remote help: `git help remote`\n",
    "* Check remote status: `git remote -v`\n",
    "* Add a remote: `git remote add <stream name> <repo URL>`\n",
    "* Add a remove: `git remote remove <stream name>`\n",
    "\n",
    "Steps:\n",
    "1. In a browser, log into GitHub and navigate to the [course repository](https://github.com/UTA-DataScience/DATA3402.Spring.2025).\n",
    "1. On the top right of the page, press the fork button to create a new fork into your own GitHub account.\n",
    "1. After successful fork, you should find the browser showing your fork of the course repository. Use the green \"Code\" button to copy path to the repo into your the clipboard of your computer.\n",
    "1. Open a shell on your personal computer.\n",
    "1. If you have not done so already, create a new directory/folder where you will keep all course material to navigate to it. For example: `mkdir Data-3402` and `cd Data-3402`.\n",
    "1. Clone your fork of the repository using `git clone` followed by the path you copied into your clipboard. (copy/paste)\n",
    "1. Paste the URL to your fork in the worksheet for the TAs and instructors.\n",
    "1. Now go into the directory of your clone (`cd DATA3402.Spring.2025`).\n",
    "1. Type `git remote -v` to see the current setup for fetch and pull.\n",
    "1. Note the URL you see. This should be the same as what you used for your clone for both push and fetch.\n",
    "1. Delete the origin remote using `git remote remove origin`.\n",
    "1. Add the course repo as your remote using `git remote add origin https://github.com/UTA-DataScience/DATA3402.Spring.2025.git`.\n",
    "1. Change the push to point to your fork. This means you will need the URL to your clone we copied earlier and confirmed as the original origin. The command will look something like: `git remote set-url --push origin  https://github.com/XXXXXX/DATA3402.Spring.2025.git`, where XXXXX is your username on GitHub.\n",
    "1. Note that if you setup everything correctly, you now should be able to do `git pull` to get updates from the course repo, and do `git push` to push your commits into your own fork.\n",
    "\n",
    "### Submission\n",
    "These instructions outline how you submit files. Some useful commands:\n",
    "* To add a file to local repository: `git add <file>`.\n",
    "* To commit all changed files into local repository: `git -a -m \"A message\"`. You need to provide some comment when you commit. \n",
    "* To push the commited files from the local repository to GitHub: `git push`.\n",
    "* To get updates from GitHub: `git pull`.\n",
    "\n",
    "Steps:\n",
    "1. To submit your labs, navigate to your clone of your fork of the course repository. \n",
    "1. Use `git pull` to make sure you have the latest updates. \n",
    "1. Make sure your copy of the lab your are working on is in the appropriate place in this clone. That means if you have the file elsewhere, copy it to the same directory in your clone of your fork. \n",
    "1. Note that in order to avoid future conflicts, you should always name your solution differently than the original file in the class repo. For example if your file is still named `Lab.2.ipynb` you should rename it using the `mv` command: `mv Lab.2.ipynb Lab.2.solution.ipynb`. \n",
    "1. Add and files you wish to submit into the repo. For example: `git add Labs/Lab.2/Lab.2.solution.ipynb`\n",
    "1. Commit any changes: `git commit -a -m \"Lab 2 updates\"`\n",
    "1. Push your changes: `git push`\n",
    "1. Check on github website that your solutions have been properly submitted.\n",
    "\n",
    "Before you leave the session today, make sure your GitHub Repo is setup. If you need to work further on your lab, navigate jupyter to the copy of the lab you just submitted and work there. Once done, repeat the commit and push commands to submit your updated solution. Note that lab 2 is due by midnight Friay 1/31/2025.\n"
   ]
  },
  {
   "cell_type": "markdown",
   "metadata": {},
   "source": [
    "### Uniform Distribution\n",
    "Lets start with generating some fake random data. You can get a random number between 0 and 1 using the python random module as follow:"
   ]
  },
  {
   "cell_type": "code",
   "execution_count": 48,
   "metadata": {},
   "outputs": [
    {
     "name": "stdout",
     "output_type": "stream",
     "text": [
      "The Value of x is 0.7298823276944101\n"
     ]
    }
   ],
   "source": [
    "import random\n",
    "x=random.random()\n",
    "print(\"The Value of x is\", x)"
   ]
  },
  {
   "cell_type": "markdown",
   "metadata": {},
   "source": [
    "Everytime you call random, you will get a new number.\n",
    "\n",
    "*Exercise 1:* Using random, write a function `generate_uniform(N, mymin, mymax)`, that returns a python list containing N random numbers between specified minimum and maximum value. Note that you may want to quickly work out on paper how to turn numbers between 0 and 1 to between other values. "
   ]
  },
  {
   "cell_type": "code",
   "execution_count": 49,
   "metadata": {},
   "outputs": [],
   "source": [
    "# Skeleton\n",
    "def generate_uniform(N,x_min,x_max):\n",
    "    out = []\n",
    "    ### BEGIN SOLUTION\n",
    "    out = [int(random.uniform(x_min, x_max)) for _ in range(N)]\n",
    "    ### END SOLUTION\n",
    "    return out"
   ]
  },
  {
   "cell_type": "code",
   "execution_count": 50,
   "metadata": {},
   "outputs": [
    {
     "name": "stdout",
     "output_type": "stream",
     "text": [
      "Data Type: <class 'list'>\n",
      "Data Length: 1000\n",
      "Type of Data Contents: <class 'int'>\n",
      "Data Minimum: -9\n",
      "Data Maximum: 9\n"
     ]
    }
   ],
   "source": [
    "# Test your solution here\n",
    "data=generate_uniform(1000,-10,10)\n",
    "print (\"Data Type:\", type(data))\n",
    "print (\"Data Length:\", len(data))\n",
    "if len(data)>0: \n",
    "    print (\"Type of Data Contents:\", type(data[0]))\n",
    "    print (\"Data Minimum:\", min(data))\n",
    "    print (\"Data Maximum:\", max(data))"
   ]
  },
  {
   "cell_type": "markdown",
   "metadata": {},
   "source": [
    "*Exercise 2a:* \n",
    "Write a function that computes the mean of values in a list. Recall the equation for the mean of a random variable $\\bf{x}$ computed on a data set of $n$ values $\\{ x_i \\} = \\{x_1, x_2, ..., x_n\\}$  is ${\\bf\\bar{x}} = \\frac{1}{n} \\sum_i^n x_i$."
   ]
  },
  {
   "cell_type": "code",
   "execution_count": 51,
   "metadata": {},
   "outputs": [],
   "source": [
    "# Skeleton\n",
    "def mean(Data):\n",
    "    m=0.\n",
    "    \n",
    "    ### BEGIN SOLUTION\n",
    "\n",
    "    m = sum(Data)/len(Data)       \n",
    "    \n",
    "    ### END SOLUTION\n",
    "    \n",
    "    return m"
   ]
  },
  {
   "cell_type": "code",
   "execution_count": 52,
   "metadata": {},
   "outputs": [
    {
     "name": "stdout",
     "output_type": "stream",
     "text": [
      "Mean of Data: 0.036\n"
     ]
    }
   ],
   "source": [
    "# Test your solution here\n",
    "print (\"Mean of Data:\", mean(data))"
   ]
  },
  {
   "cell_type": "markdown",
   "metadata": {},
   "source": [
    "*Exercise 2b:* \n",
    "Write a function that computes the variance of values in a list. Recall the equation for the variance of a random variable $\\bf{x}$ computed on a data set of $n$ values $\\{ x_i \\} = \\{x_1, x_2, ..., x_n\\}$  is ${\\bf\\langle x \\rangle} = \\frac{1}{n} \\sum_i^n (x_i - {\\bf\\bar{x}})$."
   ]
  },
  {
   "cell_type": "code",
   "execution_count": 53,
   "metadata": {},
   "outputs": [],
   "source": [
    "# Skeleton\n",
    "def variance(Data):\n",
    "    m=0.\n",
    "\n",
    "    d_mean = mean(data)\n",
    "    \n",
    "    ### BEGIN SOLUTION\n",
    "\n",
    "    m = sum([(x - d_mean) for x in Data])/len(Data)     \n",
    "    \n",
    "    ### END SOLUTION\n",
    "    \n",
    "    return m"
   ]
  },
  {
   "cell_type": "code",
   "execution_count": 54,
   "metadata": {},
   "outputs": [
    {
     "name": "stdout",
     "output_type": "stream",
     "text": [
      "Variance of Data: 2.0693169400232136e-16\n"
     ]
    }
   ],
   "source": [
    "# Test your solution here\n",
    "print (\"Variance of Data:\", variance(data))"
   ]
  },
  {
   "cell_type": "markdown",
   "metadata": {},
   "source": [
    "## Histogramming"
   ]
  },
  {
   "cell_type": "markdown",
   "metadata": {},
   "source": [
    "*Exercise 3:* Write a function that bins the data so that you can create a histogram. An example of how to implement histogramming is the following logic:\n",
    "\n",
    "* User inputs a list of values `x` and optionally `n_bins` which defaults to 10.\n",
    "* If not supplied, find the minimum and maximum (`x_min`,`x_max`) of the values in x.\n",
    "* Determine the bin size (`bin_size`) by dividing the range of the function by the number of bins.\n",
    "* Create an empty list of zeros of size `n_bins`, call it `hist`.\n",
    "* Loop over the values in `x`\n",
    "    * Loop over the values in `hist` with index `i`:\n",
    "        * If x is between `x_min+i*bin_size` and `x_min+(i+1)*bin_size`, increment `hist[i].` \n",
    "        * For efficiency, try to use continue to goto the next bin and data point.\n",
    "* Return `hist` and the list corresponding of the bin edges (i.e. of `x_min+i*bin_size`).    "
   ]
  },
  {
   "cell_type": "code",
   "execution_count": 80,
   "metadata": {},
   "outputs": [],
   "source": [
    "# Solution\n",
    "def histogram(x,n_bins=10,x_min=None,x_max=None):\n",
    "\n",
    "    ### BEGIN SOLUTION\n",
    "\n",
    "    if x_min==None:\n",
    "        x_min=min(x)\n",
    "    if x_max==None:\n",
    "        x_max=max(x)\n",
    "\n",
    "    r = x_max-x_min\n",
    "\n",
    "    bin_size = r/n_bins\n",
    "\n",
    "    hist = [0]*n_bins\n",
    "\n",
    "      # Create the list of bin edges\n",
    "    bin_edges = [int(x_min + i * bin_size) for i in range(n_bins + 1)]\n",
    "    \n",
    "    # Create the histogram using list comprehension\n",
    "    hist = [sum(1 for value in x if (bin_edges[i] <= value < bin_edges[i + 1]) or (i == n_bins - 1 and value == bin_edges[i + 1])) for i in range(n_bins)]\n",
    "    \n",
    "    ### END SOLUTION\n",
    "\n",
    "    return hist,bin_edges"
   ]
  },
  {
   "cell_type": "code",
   "execution_count": 81,
   "metadata": {},
   "outputs": [],
   "source": [
    "# Test your solution here\n",
    "h,b=histogram(data,100)\n"
   ]
  },
  {
   "cell_type": "markdown",
   "metadata": {},
   "source": [
    "*Exercise 4:* Write a function that uses the histogram function in the previous exercise to create a text-based \"graph\". For example the output could look like the following:\n",
    "```\n",
    "[  0,  1] : ######\n",
    "[  1,  2] : #####\n",
    "[  2,  3] : ######\n",
    "[  3,  4] : ####\n",
    "[  4,  5] : ####\n",
    "[  5,  6] : ######\n",
    "[  6,  7] : #####\n",
    "[  7,  8] : ######\n",
    "[  8,  9] : ####\n",
    "[  9, 10] : #####\n",
    "```\n",
    "\n",
    "Where each line corresponds to a bin and the number of `#`'s are proportional to the value of the data in the bin. "
   ]
  },
  {
   "cell_type": "code",
   "execution_count": 82,
   "metadata": {},
   "outputs": [],
   "source": [
    "# Solution\n",
    "def draw_histogram(hist, bin_edges, character=\"#\", max_character_per_line=20):\n",
    "    ### BEGIN SOLUTION\n",
    "\n",
    "    max_freq = max(hist)\n",
    "\n",
    "    for i in range(len(hist)):\n",
    "        if hist[i] != 0:\n",
    "            print(f\"[{bin_edges[i]}, {bin_edges[i+1]}] :\", character * int(hist[i] / max_freq * max_character_per_line))\n",
    "\n",
    "    ### END SOLUTION\n",
    "\n",
    "    return "
   ]
  },
  {
   "cell_type": "code",
   "execution_count": 83,
   "metadata": {},
   "outputs": [
    {
     "name": "stdout",
     "output_type": "stream",
     "text": [
      "[-9, -8] : ##########\n",
      "[-8, -7] : #######\n",
      "[-7, -6] : ##########\n",
      "[-6, -5] : ############\n",
      "[-5, -4] : ######\n",
      "[-4, -3] : #########\n",
      "[-3, -2] : ###########\n",
      "[-2, -1] : ##########\n",
      "[-1, 0] : ##########\n",
      "[0, 1] : ####################\n",
      "[1, 2] : #########\n",
      "[2, 3] : ########\n",
      "[3, 4] : #########\n",
      "[4, 5] : ############\n",
      "[5, 6] : #########\n",
      "[6, 7] : ########\n",
      "[7, 8] : ##########\n",
      "[8, 9] : ###################\n"
     ]
    }
   ],
   "source": [
    "# Test your solution here\n",
    "h,b=histogram(data,20)\n",
    "\n",
    "draw_histogram(h,b)"
   ]
  },
  {
   "cell_type": "markdown",
   "metadata": {},
   "source": [
    "## Functional Programming\n",
    "\n",
    "*Exercise 5:* Write a function the applies a booling function (that returns true/false) to every element in data, and return a list of indices of elements where the result was true. Use this function to find the indices of entries greater than 0.5. "
   ]
  },
  {
   "cell_type": "code",
   "execution_count": 76,
   "metadata": {},
   "outputs": [],
   "source": [
    "def where(mylist,myfunc):\n",
    "    out= []\n",
    "    \n",
    "    ### BEGIN SOLUTION\n",
    "\n",
    "    out = [i for i in range(len(mylist)) if myfunc(mylist[i])]\n",
    "    \n",
    "    ### END SOLUTION\n",
    "    \n",
    "    return out"
   ]
  },
  {
   "cell_type": "code",
   "execution_count": 60,
   "metadata": {},
   "outputs": [
    {
     "name": "stdout",
     "output_type": "stream",
     "text": [
      "[0, 1, 3, 4, 6, 7, 9, 13, 18, 19, 20, 23, 26, 30, 32, 33, 36, 37, 38, 45, 46, 47, 49, 55, 57, 60, 61, 67, 68, 69, 70, 71, 74, 76, 77, 78, 80, 82, 83, 84, 85, 86, 88, 90, 91, 92, 94, 95, 98, 100, 103, 104, 105, 108, 109, 110, 112, 115, 117, 120, 122, 129, 131, 133, 134, 136, 137, 138, 139, 140, 141, 149, 151, 152, 153, 158, 159, 160, 162, 164, 166, 167, 168, 170, 172, 173, 174, 175, 179, 180, 182, 185, 189, 191, 194, 195, 197, 199, 201, 205, 206, 208, 211, 212, 213, 214, 217, 218, 219, 220, 225, 226, 228, 232, 237, 238, 243, 246, 248, 250, 252, 254, 255, 256, 262, 265, 266, 267, 270, 273, 277, 278, 281, 283, 286, 290, 298, 304, 306, 308, 310, 313, 316, 323, 324, 325, 326, 330, 331, 333, 337, 340, 350, 352, 353, 354, 356, 361, 362, 364, 373, 375, 376, 378, 385, 388, 390, 391, 392, 394, 395, 397, 399, 401, 403, 405, 407, 409, 412, 416, 419, 420, 421, 423, 427, 429, 432, 433, 434, 435, 438, 441, 445, 450, 451, 453, 454, 456, 458, 459, 461, 463, 464, 468, 469, 470, 471, 472, 473, 474, 475, 478, 480, 484, 485, 486, 487, 489, 491, 493, 496, 497, 498, 499, 500, 503, 504, 506, 507, 508, 509, 510, 513, 514, 517, 525, 527, 533, 535, 536, 540, 544, 545, 553, 554, 556, 557, 559, 560, 562, 564, 565, 566, 567, 568, 569, 572, 573, 574, 575, 578, 586, 588, 591, 592, 594, 596, 597, 601, 604, 607, 608, 610, 612, 619, 621, 624, 625, 628, 633, 634, 635, 636, 638, 641, 647, 648, 649, 651, 652, 654, 656, 660, 663, 664, 665, 666, 667, 668, 672, 673, 674, 678, 679, 681, 682, 686, 690, 692, 693, 695, 698, 702, 707, 709, 710, 714, 715, 716, 717, 721, 722, 723, 728, 732, 734, 735, 737, 738, 739, 740, 741, 743, 754, 755, 757, 759, 760, 762, 763, 764, 765, 766, 767, 772, 779, 780, 782, 785, 786, 789, 796, 798, 799, 800, 802, 806, 808, 811, 812, 814, 815, 816, 817, 823, 824, 826, 827, 828, 830, 831, 833, 838, 840, 842, 843, 844, 845, 846, 848, 849, 850, 851, 852, 858, 860, 861, 862, 864, 866, 868, 870, 871, 875, 876, 879, 884, 888, 889, 891, 894, 895, 898, 900, 901, 903, 904, 905, 906, 908, 910, 911, 913, 915, 916, 918, 924, 930, 931, 939, 940, 944, 945, 949, 952, 955, 956, 957, 960, 961, 963, 969, 971, 976, 977, 978, 980, 981, 982, 983, 987, 989, 990, 992, 993, 994, 997, 999]\n"
     ]
    }
   ],
   "source": [
    "# Test your solution here\n",
    "indicies = where(data, lambda x: x > 0.5)\n",
    "\n",
    "print(indicies)"
   ]
  },
  {
   "cell_type": "markdown",
   "metadata": {},
   "source": [
    "*Exercise 6:* The `inrange(mymin,mymax)` function below returns a function that tests if it's input is between the specified values. Write corresponding functions that test:\n",
    "* Even\n",
    "* Odd\n",
    "* Greater than\n",
    "* Less than\n",
    "* Equal\n",
    "* Divisible by"
   ]
  },
  {
   "cell_type": "code",
   "execution_count": 61,
   "metadata": {},
   "outputs": [
    {
     "name": "stdout",
     "output_type": "stream",
     "text": [
      "True True False False False\n",
      "False False True True False\n",
      "Number of Entries passing F1: 550\n",
      "Number of Entries passing F2: 0\n"
     ]
    }
   ],
   "source": [
    "def in_range(mymin,mymax):\n",
    "    def testrange(x):\n",
    "        return x<mymax and x>=mymin\n",
    "    return testrange\n",
    "\n",
    "# Examples:\n",
    "F1=in_range(0,10)\n",
    "F2=in_range(10,20)\n",
    "\n",
    "# Test of in_range\n",
    "print (F1(0), F1(1), F1(10), F1(15), F1(20))\n",
    "print (F2(0), F2(1), F2(10), F2(15), F2(20))\n",
    "\n",
    "print (\"Number of Entries passing F1:\", len(where(data,F1)))\n",
    "print (\"Number of Entries passing F2:\", len(where(data,F2)))"
   ]
  },
  {
   "cell_type": "code",
   "execution_count": 62,
   "metadata": {},
   "outputs": [],
   "source": [
    "### BEGIN SOLUTION\n",
    "\n",
    "def even():\n",
    "    def is_even(x):\n",
    "        return x%2==0\n",
    "    return is_even\n",
    "\n",
    "def odd():\n",
    "    def is_odd(x):\n",
    "        return x%2!=0\n",
    "    return is_odd\n",
    "\n",
    "def greater_than(x):\n",
    "    def is_greater_than(y):\n",
    "        return y>x\n",
    "    return is_greater_than\n",
    "\n",
    "def less_than(x):\n",
    "    def is_less_than(y):\n",
    "        return y<x\n",
    "    return is_less_than\n",
    "\n",
    "def equal(x):\n",
    "    def is_equal(y):\n",
    "        return y==x\n",
    "    return is_equal\n",
    "\n",
    "def divisible(x):\n",
    "    def is_divisible(y):\n",
    "        return y%x==0\n",
    "    return is_divisible\n",
    "    \n",
    "    \n",
    "### END SOLUTION"
   ]
  },
  {
   "cell_type": "code",
   "execution_count": 63,
   "metadata": {},
   "outputs": [
    {
     "name": "stdout",
     "output_type": "stream",
     "text": [
      "[1, 1, -1, 9, 7, -2, 2, 5, -6, 8, -3, -6, -5, 1, -5, 0, -1, -6, 9, 2, 4, -8, -8, 8, -7, -1, 6, -1, -8, -6, 6, 0, 3, 1, -3, -7, 4, 4, 6, -3, 0, -8, 0, -5, -8, 8, 7, 3, -2, 7, -3, -8, -9, -2, 0, 2, -5, 4, 0, -8, 5, 3, -7, -7, -2, -1, -4, 3, 9, 8, 8, 1, -6, -6, 8, -4, 8, 3, 1, -5, 5, -7, 2, 1, 6, 4, 6, 0, 8, -7, 2, 5, 3, -5, 1, 9, -9, 0, 8, 0, 4, -6, -2, 2, 5, 2, -9, -4, 1, 7, 4, -7, 4, -7, -7, 7, -6, 2, -4, -7, 4, 0, 1, -1, -7, -9, -4, -9, -2, 2, -4, 1, 0, 7, 7, -5, 7, 7, 4, 3, 3, 1, -4, -6, -9, -3, -2, -3, -4, 4, -2, 4, 4, 2, -3, -9, -6, -7, 8, 8, 5, 0, 4, -7, 5, -9, 1, 2, 7, -1, 2, 0, 5, 2, 7, 4, -8, -5, -2, 1, 6, -3, 9, -4, -7, 9, -6, 0, -7, 6, -5, 2, -1, -9, 3, 8, -2, 6, -2, 3, -6, 9, -8, -1, -2, 9, 8, -5, 4, 0, -3, 5, 5, 6, 9, -6, -1, 9, 9, 5, 3, -5, -1, -8, -8, 3, 8, -1, 4, -6, -9, -3, 4, -7, -5, -9, -7, 2, 3, -3, -6, -7, -9, 3, -3, 0, 3, 0, 8, -3, 8, 0, 7, -6, 1, 7, 8, -1, 0, -3, 0, -8, 9, -3, -1, 4, 2, 1, -3, -1, 2, -3, -6, 8, -7, -3, -9, 7, 5, -3, -4, 3, -9, 5, -4, -4, 9, -2, -5, -3, 1, -8, -5, -4, -4, 0, -1, -2, 5, -1, -3, -3, -9, -9, 6, -5, 1, -9, 3, -6, 6, -1, 0, 9, 0, -3, 6, -3, 0, -5, -9, -4, -3, 3, 5, 2, 9, -9, -7, 0, 7, 7, -6, 1, -6, -7, 0, 9, -1, -1, 4, -7, -3, -3, -7, 0, -4, -9, 0, 0, 1, -6, 7, 7, 7, -5, 2, -1, 0, 0, 0, 8, 7, 0, 6, -2, -6, -2, -1, -1, -3, 0, -4, 6, 0, 5, 4, 0, 9, 0, 0, -4, -4, 0, -8, 8, -4, -5, 1, -7, 9, 7, 9, -3, 3, 1, 0, 9, -7, 5, -3, 7, -9, 7, -2, 9, -9, 2, 0, 6, -1, 0, 9, -6, -3, -7, 1, -2, -9, 5, 1, 4, -7, 1, -1, -2, -2, 5, -6, 9, -3, 0, 4, 1, 5, 3, -6, -2, 7, -7, -6, 5, -9, -1, -6, 4, -7, -2, -5, 0, 5, 9, -4, 2, 5, -7, 9, 0, 8, 4, -6, 1, -4, 7, 4, -6, 0, -6, 1, 9, 4, 4, 6, 4, 7, 4, -1, -7, 5, -7, 6, -6, -6, -6, 1, 4, 1, 7, 0, 8, 0, 1, -6, 1, -6, -8, 5, 8, 8, 9, 4, -6, -5, 3, 8, -6, 8, 5, 3, 4, 4, -8, -2, 6, 1, -7, 0, 5, -8, -1, 0, -3, -5, -9, -9, 5, -9, 7, -9, -6, 0, -2, 0, 5, -1, 3, 8, -9, -7, -8, 9, -4, -2, 0, 2, 5, -7, -3, -1, -1, -8, -7, 0, 3, 3, -8, 5, 3, -2, 5, 9, -2, 8, -4, 3, 3, 7, 8, 6, 3, 0, -2, 2, 6, 9, 7, -6, -3, 7, -6, -3, -9, -5, -2, -7, -7, 8, -5, 3, -4, -1, 3, 6, 0, 1, -4, 6, 4, -3, -8, -1, 7, 0, -4, 9, -3, -1, 6, 6, -8, 8, 0, 8, -1, 0, -2, -9, -9, -1, 7, -4, 3, -1, -6, 9, 1, -7, -1, 6, -3, -2, 0, 0, 7, 7, 2, 7, 0, 4, -1, -9, 9, -3, -5, -1, 0, -6, 2, 2, 4, -4, 1, 1, -2, 8, -4, 4, 0, -8, 0, 8, 0, -6, 9, 4, 5, 4, 5, 5, -4, 0, -6, 2, 5, 8, -3, -6, -8, 2, 4, -9, 3, 2, -6, 0, -5, 8, -4, 0, -3, 1, 0, 4, 4, -7, 2, -3, 0, 3, -3, -4, 0, 5, -5, -2, -2, -6, 3, -3, 7, 8, -5, -6, -8, 8, 4, 7, 5, -1, -3, -8, 1, 7, 6, -8, -9, -1, -6, 2, -6, -2, 0, 5, -3, 6, 4, 0, 6, 5, 7, 5, 7, -7, 6, 0, -2, -4, -8, -3, 0, -6, 0, -9, -2, 6, 8, -4, 7, -8, 4, 8, -9, 3, 7, 7, 8, 3, 9, -6, 0, -2, -3, 5, -3, -9, -1, -1, -7, -3, 8, 4, 0, 6, -8, -5, 4, 2, -9, -7, 6, 0, -9, -8, -6, -1, -6, 2, -7, 3, 4, 8, -7, 2, -7, -9, -1, 1, -3, 4, -2, 0, 6, 7, -2, 3, 5, 3, 6, -2, 0, -7, 0, 0, 9, 3, -2, 5, 8, 2, -9, 6, 2, 0, 4, 0, -2, -2, -1, 7, -9, 9, 0, 5, 9, 7, 3, 1, 0, 3, 9, 9, 2, 5, -2, -4, -8, 0, 0, 8, -7, 2, 3, 4, -1, 7, -3, 6, -6, 3, -2, 4, 8, -3, -4, -2, 3, 1, 0, -3, 9, -3, 0, -8, -1, 9, -4, -7, -6, 2, 1, 0, 1, -1, -7, 4, 2, -7, -9, 3, -2, 2, 4, 0, 8, 1, 6, 8, -9, 3, -6, 8, 4, -4, 5, -9, 7, 9, -3, 7, 0, -6, -4, 0, 0, 6, -5, -8, -4, -2, -8, 5, 2, -2, -3, -6, -4, -9, -9, 0, 6, 2, -3, -8, -2, 9, 8, -4, -6, -7, 7, 0, -2, 4, -9, -6, 6, 1, 7, -7, -9, 5, 4, -4, 4, -4, 0, -7, 0, -6, 8, -9, 3, -1, -5, -1, -3, 4, 6, 4, -7, 6, 7, 1, 8, 0, -6, -7, 4, -9, 3, 7, -5, 5, 8, 8, -8, -4, 1, -1, 6]\n",
      "Number of Even Numbers: 502\n",
      "Number of Odd Numbers: 498\n",
      "Number of Numbers Greater than 5: 195\n",
      "Number of Numbers Less than 5: 755\n",
      "Number of Numbers Equal to 5: 50\n",
      "Number of Numbers Divisible by 5: 183\n"
     ]
    }
   ],
   "source": [
    "# Test your solution\n",
    "\n",
    "F1 = even()\n",
    "F2 = odd()\n",
    "F3 = greater_than(5)\n",
    "F4 = less_than(5)\n",
    "F5 = equal(5)\n",
    "F6 = divisible(5)\n",
    "\n",
    "print(data)\n",
    "\n",
    "print (\"Number of Even Numbers:\", len(where(data,F1)))\n",
    "print (\"Number of Odd Numbers:\", len(where(data,F2)))\n",
    "print (\"Number of Numbers Greater than 5:\", len(where(data,greater_than(5))))\n",
    "print (\"Number of Numbers Less than 5:\", len(where(data,less_than(5))))\n",
    "\n",
    "print (\"Number of Numbers Equal to 5:\", len(where(data,equal(5))))\n",
    "print (\"Number of Numbers Divisible by 5:\", len(where(data,divisible(5))) )"
   ]
  },
  {
   "cell_type": "markdown",
   "metadata": {},
   "source": [
    "*Exercise 7:* Repeat the previous exercise using `lambda` and the built-in python functions sum and map instead of your solution above. "
   ]
  },
  {
   "cell_type": "code",
   "execution_count": 87,
   "metadata": {},
   "outputs": [
    {
     "name": "stdout",
     "output_type": "stream",
     "text": [
      "Number of Even Numbers: 502\n",
      "Number of Odd Numbers: 498\n",
      "Number of Numbers Greater than 5: 195\n",
      "Number of Numbers Less than 5: 755\n",
      "Number of Numbers Equal to 5: 50\n",
      "Number of Numbers Divisible by 5: 183\n"
     ]
    }
   ],
   "source": [
    "### BEGIN SOLUTION\n",
    "\n",
    "# Define the statements as lambda functions\n",
    "statements = [\n",
    "    lambda x: x % 2 == 0,  # Even\n",
    "    lambda x: x % 2 != 0,  # Odd\n",
    "    lambda x: x > 5,       # Greater than 5\n",
    "    lambda x: x < 5,       # Less than 5\n",
    "    lambda x: x == 5,      # Equal to 5\n",
    "    lambda x: x % 5 == 0   # Divisible by 5\n",
    "]\n",
    "\n",
    "# Calculate the sums using list comprehensions\n",
    "function_results = [sum(1 for x in data if statement(x)) for statement in statements]\n",
    "\n",
    "print(f\"Number of Even Numbers: {function_results[0]}\")\n",
    "print(f\"Number of Odd Numbers: {function_results[1]}\")\n",
    "print(f\"Number of Numbers Greater than 5: {function_results[2]}\")\n",
    "print(f\"Number of Numbers Less than 5: {function_results[3]}\")\n",
    "print(f\"Number of Numbers Equal to 5: {function_results[4]}\")\n",
    "print(f\"Number of Numbers Divisible by 5: {function_results[5]}\")\n",
    "    \n",
    "### END SOLUTION"
   ]
  },
  {
   "cell_type": "markdown",
   "metadata": {},
   "source": [
    "## Monte Carlo\n",
    "\n",
    "*Exercise 7:* Write a \"generator\" function called `generate_function(func,x_min,x_max,N)`, that instead of generating a flat distribution, generates a distribution with functional form coded in `func`. Note that `func` will always be > 0.  \n",
    "\n",
    "Use the test function below and your histogramming functions above to demonstrate that your generator is working properly.\n",
    "\n",
    "Hint: A simple, but slow, solution is to a draw random number `test_x` within the specified range and another number `p` between the `min` and `max` of the function (which you will have to determine). If `p<=function(test_x)`, then place `test_x` on the output. If not, repeat the process, drawing two new numbers. Repeat until you have the specified number of generated numbers, `N`. For this problem, it's OK to determine the `min` and `max` by numerically sampling the function.  "
   ]
  },
  {
   "cell_type": "code",
   "execution_count": 65,
   "metadata": {},
   "outputs": [],
   "source": [
    "def generate_function(func,x_min,x_max,N=1000):\n",
    "    out = list()\n",
    "\n",
    "    ### BEGIN SOLUTION\n",
    "    x_samples = [x_min + (x_max - x_min) * i / N for i in range(N + 1)]\n",
    "    func_values = [func(x) for x in x_samples]\n",
    "    f_max = max(func_values)\n",
    "    \n",
    "    generated_count = 0\n",
    "    while generated_count < N:\n",
    "        test_x = random.uniform(x_min, x_max)\n",
    "        p = random.uniform(0, f_max)\n",
    "        if p <= func(test_x):\n",
    "            out.append(test_x)\n",
    "            generated_count += 1\n",
    "    \n",
    "    ### END SOLUTION\n",
    "    \n",
    "    return out"
   ]
  },
  {
   "cell_type": "code",
   "execution_count": 90,
   "metadata": {},
   "outputs": [
    {
     "name": "stdout",
     "output_type": "stream",
     "text": [
      "[]\n"
     ]
    }
   ],
   "source": [
    "# A test function\n",
    "def test_func(x,a=1,b=1):\n",
    "    return abs(a*x+b)\n",
    "\n",
    "# Generate data using the test function\n",
    "data = generate_function(lambda x: test_func(x,1,10),0,10,1000)\n",
    "\n",
    "print(data)"
   ]
  },
  {
   "cell_type": "markdown",
   "metadata": {},
   "source": [
    "*Exercise 8:* Use your function to generate 1000 numbers that are normal distributed, using the `gaussian` function below. Confirm the mean and variance of the data is close to the mean and variance you specify when building the Gaussian. Histogram the data. "
   ]
  },
  {
   "cell_type": "code",
   "execution_count": 67,
   "metadata": {},
   "outputs": [],
   "source": [
    "import math\n",
    "\n",
    "def gaussian(mean, sigma):\n",
    "    def f(x):\n",
    "        return math.exp(-((x-mean)**2)/(2*sigma**2))/math.sqrt(math.pi*sigma)\n",
    "    return f\n",
    "\n",
    "# Example Instantiation\n",
    "g1=gaussian(0,1)\n",
    "g2=gaussian(10,3)"
   ]
  },
  {
   "cell_type": "markdown",
   "metadata": {},
   "source": [
    "*Exercise 9:* Combine your `generate_function`, `where`, and `in_range` functions above to create an integrate function. Use your integrate function to show that approximately 68% of Normal distribution is within one variance."
   ]
  },
  {
   "cell_type": "code",
   "execution_count": 68,
   "metadata": {},
   "outputs": [],
   "source": [
    "def integrate(func, x_min, x_max, n_points=1000):\n",
    "    \n",
    "    return integral"
   ]
  },
  {
   "cell_type": "code",
   "execution_count": null,
   "metadata": {},
   "outputs": [],
   "source": []
  }
 ],
 "metadata": {
  "kernelspec": {
   "display_name": "Python 3",
   "language": "python",
   "name": "python3"
  },
  "language_info": {
   "codemirror_mode": {
    "name": "ipython",
    "version": 3
   },
   "file_extension": ".py",
   "mimetype": "text/x-python",
   "name": "python",
   "nbconvert_exporter": "python",
   "pygments_lexer": "ipython3",
   "version": "3.12.1"
  }
 },
 "nbformat": 4,
 "nbformat_minor": 2
}
