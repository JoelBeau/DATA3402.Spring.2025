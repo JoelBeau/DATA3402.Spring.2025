{
 "cells": [
  {
   "cell_type": "markdown",
   "metadata": {},
   "source": [
    "# Lab 3\n",
    "\n",
    "In this lab we will become familiar with distributions, histograms, and functional programming. Do not use numpy or any other library for this lab.\n",
    "\n",
    "Before that, lets get setup homework submission and submit your previous lab.  \n",
    "\n",
    "## Working on the Command-line.\n",
    "\n",
    "It is important for you to learn to work on the command line and to be familiar with the Unix environment (e.g. Linux, Mac OS, or Windows Linux Subsystem). We'll go over working on the command-line in detail later in the course.\n",
    "\n",
    "You are required to submit your work in this course via GitHub. Today in class, you will setup everything on the command-line.\n",
    "\n",
    "### Command-line basics\n",
    "\n",
    "There is plenty of material online that will help you figure out how to do various tasks on the command line. Commands you may need to know today:\n",
    "\n",
    "* `ls`: lists the contents of the current directory.\n",
    "* `pwd`: prints the path of the current directory.\n",
    "* `cd <directory>`: changes your current directory to the specified directory.\n",
    "* `cd ..`: changes current directory to the previous directory. Basically steps out of the current directory to the directory containing the current directory.\n",
    "* `mkdir <directory>`: create a new directory with the specified name.\n",
    "* `rmdir <directory>`: removes the specified directory. Note it has to be empty.\n",
    "* `rm <filename>`: deletes the specified file.\n",
    "* `mv <filename 1> <filename 2>`: Moves or renames a file.\n",
    "* `cp <filename 1> <filename 2>`: copies an file. If you just provide a path to a directory, it copies the file into that directory with the same filename. If you specifiy a new filename, the copy has a new name. For example `cp File.1.txt File.2.txt` creates a copy of `File.1.txt` with the name `File.2.txt`. Meanwhile `cp File.1.txt my_directory`, where `my_directory` is a directory, creates a copy of `File.1.txt` in directory `my_directory` with the name `File.1.txt`.\n",
    "\n",
    "For reference, here are some example resources I found by googling:\n",
    "\n",
    "* Paths and Wildcards: https://www.warp.dev/terminus/linux-wildcards\n",
    "* Basic commands like copy: https://kb.iu.edu/d/afsk\n",
    "* General introduction to shell: https://github-pages.ucl.ac.uk/RCPSTrainingMaterials/HPCandHTCusingLegion/2_intro_to_shell.html\n",
    "* Manual pages: https://www.geeksforgeeks.org/linux-man-page-entries-different-types/?ref=ml_lbp\n",
    "* Chaining commands: https://www.geeksforgeeks.org/chaining-commands-in-linux/?ref=ml_lbp\n",
    "* Piping: https://www.geeksforgeeks.org/piping-in-unix-or-linux/\n",
    "* Using sed: https://www.geeksforgeeks.org/sed-command-linux-set-2/?ref=ml_lbp\n",
    "* Various Unix commands: https://www.geeksforgeeks.org/linux-commands/?ref=lbp\n",
    "* Cheat sheets:\n",
    "    * https://www.stationx.net/unix-commands-cheat-sheet/\n",
    "    * https://cheatography.com/davechild/cheat-sheets/linux-command-line/\n",
    "    * https://www.theknowledgeacademy.com/blog/unix-commands-cheat-sheet/\n",
    "    \n",
    "These aren't necessarily the best resources. Feel free to search for better ones. Also, don't forget that Unix has built-in manual pages for all of its commands. Just type `man <command>` at the command prompt. Use the space-bar to scroll through the documentation and \"q\" to exit.\n",
    "\n",
    "\n",
    "### Setup and Submission\n",
    "\n",
    "Our course repository is public. The instructions here aim to have you setup a fork of the course repository. Unfortunately because you are forking a public repo, your fork will have to be public also. \n",
    "\n",
    "You should be familiar with git from the first semester of this course. I assume that you all have github accounts and have setup things to be able to [push to github using ssh](https://docs.github.com/en/github/authenticating-to-github/connecting-to-github-with-ssh). The instuctions here lead you to:\n",
    "\n",
    "We'll overview what you will do before going through step by step instructions.\n",
    "\n",
    "1. Setup:\n",
    "    1. Fork the class repository. Some directions in [fork-a-repo](https://docs.github.com/en/github/getting-started-with-github/fork-a-repo).\n",
    "    1. Create a directory on your personal system where you will keep all course materials.\n",
    "    1. In that directory, clone your fork of the repository.\n",
    "    1. Using `git remote`, set the upstream to be the class repo, so you can pull from the class and push to your fork.\n",
    "\n",
    "1. Submission:\n",
    "    1. Copy your solutions into the appropriate directory (e.g. into `Labs/Lab.2/`) and with appropriate filename `Lab.2.solution.ipynb'.\n",
    "    1. Commit / push your solutions.\n",
    "    1. Grant access to course instructors.\n",
    "\n",
    "Below are step by step instructions with examples (including example directory naming convention). Feel free to modify things as you see fit. \n",
    "\n",
    "#### Setup\n",
    "You should only need to follow this instructions once. Here are some useful git commands:\n",
    "\n",
    "* Git help: `git help`\n",
    "* Git remote help: `git help remote`\n",
    "* Check remote status: `git remote -v`\n",
    "* Add a remote: `git remote add <stream name> <repo URL>`\n",
    "* Add a remove: `git remote remove <stream name>`\n",
    "\n",
    "Steps:\n",
    "1. In a browser, log into GitHub and navigate to the [course repository](https://github.com/UTA-DataScience/DATA3402.Spring.2025).\n",
    "1. On the top right of the page, press the fork button to create a new fork into your own GitHub account.\n",
    "1. After successful fork, you should find the browser showing your fork of the course repository. Use the green \"Code\" button to copy path to the repo into your the clipboard of your computer.\n",
    "1. Open a shell on your personal computer.\n",
    "1. If you have not done so already, create a new directory/folder where you will keep all course material to navigate to it. For example: `mkdir Data-3402` and `cd Data-3402`.\n",
    "1. Clone your fork of the repository using `git clone` followed by the path you copied into your clipboard. (copy/paste)\n",
    "1. Paste the URL to your fork in the worksheet for the TAs and instructors.\n",
    "1. Now go into the directory of your clone (`cd DATA3402.Spring.2025`).\n",
    "1. Type `git remote -v` to see the current setup for fetch and pull.\n",
    "1. Note the URL you see. This should be the same as what you used for your clone for both push and fetch.\n",
    "1. Delete the origin remote using `git remote remove origin`.\n",
    "1. Add the course repo as your remote using `git remote add origin https://github.com/UTA-DataScience/DATA3402.Spring.2025.git`.\n",
    "1. Change the push to point to your fork. This means you will need the URL to your clone we copied earlier and confirmed as the original origin. The command will look something like: `git remote set-url --push origin  https://github.com/XXXXXX/DATA3402.Spring.2025.git`, where XXXXX is your username on GitHub.\n",
    "1. Note that if you setup everything correctly, you now should be able to do `git pull` to get updates from the course repo, and do `git push` to push your commits into your own fork.\n",
    "\n",
    "### Submission\n",
    "These instructions outline how you submit files. Some useful commands:\n",
    "* To add a file to local repository: `git add <file>`.\n",
    "* To commit all changed files into local repository: `git -a -m \"A message\"`. You need to provide some comment when you commit. \n",
    "* To push the commited files from the local repository to GitHub: `git push`.\n",
    "* To get updates from GitHub: `git pull`.\n",
    "\n",
    "Steps:\n",
    "1. To submit your labs, navigate to your clone of your fork of the course repository. \n",
    "1. Use `git pull` to make sure you have the latest updates. \n",
    "1. Make sure your copy of the lab your are working on is in the appropriate place in this clone. That means if you have the file elsewhere, copy it to the same directory in your clone of your fork. \n",
    "1. Note that in order to avoid future conflicts, you should always name your solution differently than the original file in the class repo. For example if your file is still named `Lab.2.ipynb` you should rename it using the `mv` command: `mv Lab.2.ipynb Lab.2.solution.ipynb`. \n",
    "1. Add and files you wish to submit into the repo. For example: `git add Labs/Lab.2/Lab.2.solution.ipynb`\n",
    "1. Commit any changes: `git commit -a -m \"Lab 2 updates\"`\n",
    "1. Push your changes: `git push`\n",
    "1. Check on github website that your solutions have been properly submitted.\n",
    "\n",
    "Before you leave the session today, make sure your GitHub Repo is setup. If you need to work further on your lab, navigate jupyter to the copy of the lab you just submitted and work there. Once done, repeat the commit and push commands to submit your updated solution. Note that lab 2 is due by midnight Friay 1/31/2025.\n"
   ]
  },
  {
   "cell_type": "markdown",
   "metadata": {},
   "source": [
    "### Uniform Distribution\n",
    "Lets start with generating some fake random data. You can get a random number between 0 and 1 using the python random module as follow:"
   ]
  },
  {
   "cell_type": "code",
   "execution_count": 143,
   "metadata": {},
   "outputs": [
    {
     "name": "stdout",
     "output_type": "stream",
     "text": [
      "The Value of x is 0.5903281797023183\n"
     ]
    }
   ],
   "source": [
    "import random\n",
    "x=random.random()\n",
    "print(\"The Value of x is\", x)"
   ]
  },
  {
   "cell_type": "markdown",
   "metadata": {},
   "source": [
    "Everytime you call random, you will get a new number.\n",
    "\n",
    "*Exercise 1:* Using random, write a function `generate_uniform(N, mymin, mymax)`, that returns a python list containing N random numbers between specified minimum and maximum value. Note that you may want to quickly work out on paper how to turn numbers between 0 and 1 to between other values. "
   ]
  },
  {
   "cell_type": "code",
   "execution_count": 144,
   "metadata": {},
   "outputs": [],
   "source": [
    "# Skeleton\n",
    "def generate_uniform(N,x_min,x_max):\n",
    "    out = []\n",
    "    ### BEGIN SOLUTION\n",
    "    out = [int(random.uniform(x_min, x_max)) for _ in range(N)]\n",
    "    ### END SOLUTION\n",
    "    return out"
   ]
  },
  {
   "cell_type": "code",
   "execution_count": 145,
   "metadata": {},
   "outputs": [
    {
     "name": "stdout",
     "output_type": "stream",
     "text": [
      "Data Type: <class 'list'>\n",
      "Data Length: 1000\n",
      "Type of Data Contents: <class 'int'>\n",
      "Data Minimum: -9\n",
      "Data Maximum: 9\n"
     ]
    }
   ],
   "source": [
    "# Test your solution here\n",
    "data=generate_uniform(1000,-10,10)\n",
    "print (\"Data Type:\", type(data))\n",
    "print (\"Data Length:\", len(data))\n",
    "if len(data)>0: \n",
    "    print (\"Type of Data Contents:\", type(data[0]))\n",
    "    print (\"Data Minimum:\", min(data))\n",
    "    print (\"Data Maximum:\", max(data))"
   ]
  },
  {
   "cell_type": "markdown",
   "metadata": {},
   "source": [
    "*Exercise 2a:* \n",
    "Write a function that computes the mean of values in a list. Recall the equation for the mean of a random variable $\\bf{x}$ computed on a data set of $n$ values $\\{ x_i \\} = \\{x_1, x_2, ..., x_n\\}$  is ${\\bf\\bar{x}} = \\frac{1}{n} \\sum_i^n x_i$."
   ]
  },
  {
   "cell_type": "code",
   "execution_count": 146,
   "metadata": {},
   "outputs": [],
   "source": [
    "# Skeleton\n",
    "def mean(Data):\n",
    "    m=0.\n",
    "    \n",
    "    ### BEGIN SOLUTION\n",
    "\n",
    "    m = sum(Data)/len(Data)       \n",
    "    \n",
    "    ### END SOLUTION\n",
    "    \n",
    "    return m"
   ]
  },
  {
   "cell_type": "code",
   "execution_count": 147,
   "metadata": {},
   "outputs": [
    {
     "name": "stdout",
     "output_type": "stream",
     "text": [
      "Mean of Data: -0.192\n"
     ]
    }
   ],
   "source": [
    "# Test your solution here\n",
    "print (\"Mean of Data:\", mean(data))"
   ]
  },
  {
   "cell_type": "markdown",
   "metadata": {},
   "source": [
    "*Exercise 2b:* \n",
    "Write a function that computes the variance of values in a list. Recall the equation for the variance of a random variable $\\bf{x}$ computed on a data set of $n$ values $\\{ x_i \\} = \\{x_1, x_2, ..., x_n\\}$  is ${\\bf\\langle x \\rangle} = \\frac{1}{n} \\sum_i^n (x_i - {\\bf\\bar{x}})$."
   ]
  },
  {
   "cell_type": "code",
   "execution_count": 148,
   "metadata": {},
   "outputs": [],
   "source": [
    "import numpy as np\n",
    "# Skeleton\n",
    "def variance(Data):\n",
    "    m=0.\n",
    "\n",
    "    ### BEGIN SOLUTION\n",
    "\n",
    "    m = sum([(x - mean(Data))**2 for x in Data])/len(Data)\n",
    "    \n",
    "    ### END SOLUTION\n",
    "    \n",
    "    return m"
   ]
  },
  {
   "cell_type": "code",
   "execution_count": 149,
   "metadata": {},
   "outputs": [
    {
     "name": "stdout",
     "output_type": "stream",
     "text": [
      "Variance of Data: 27.137135999999998\n"
     ]
    }
   ],
   "source": [
    "# Test your solution here\n",
    "print (\"Variance of Data:\", variance(data))"
   ]
  },
  {
   "cell_type": "markdown",
   "metadata": {},
   "source": [
    "## Histogramming"
   ]
  },
  {
   "cell_type": "markdown",
   "metadata": {},
   "source": [
    "*Exercise 3:* Write a function that bins the data so that you can create a histogram. An example of how to implement histogramming is the following logic:\n",
    "\n",
    "* User inputs a list of values `x` and optionally `n_bins` which defaults to 10.\n",
    "* If not supplied, find the minimum and maximum (`x_min`,`x_max`) of the values in x.\n",
    "* Determine the bin size (`bin_size`) by dividing the range of the function by the number of bins.\n",
    "* Create an empty list of zeros of size `n_bins`, call it `hist`.\n",
    "* Loop over the values in `x`\n",
    "    * Loop over the values in `hist` with index `i`:\n",
    "        * If x is between `x_min+i*bin_size` and `x_min+(i+1)*bin_size`, increment `hist[i].` \n",
    "        * For efficiency, try to use continue to goto the next bin and data point.\n",
    "* Return `hist` and the list corresponding of the bin edges (i.e. of `x_min+i*bin_size`).    "
   ]
  },
  {
   "cell_type": "code",
   "execution_count": 150,
   "metadata": {},
   "outputs": [],
   "source": [
    "# Solution\n",
    "def histogram(x,n_bins=10,x_min=None,x_max=None):\n",
    "\n",
    "    ### BEGIN SOLUTION\n",
    "\n",
    "    if x_min==None:\n",
    "        x_min=min(x)\n",
    "    if x_max==None:\n",
    "        x_max=max(x)\n",
    "\n",
    "    r = x_max-x_min\n",
    "\n",
    "    bin_size = r/n_bins\n",
    "\n",
    "    hist = [0]*n_bins\n",
    "\n",
    "      # Create the list of bin edges\n",
    "    bin_edges = [int(x_min + i * bin_size) for i in range(n_bins + 1)]\n",
    "    \n",
    "    # Create the histogram using list comprehension\n",
    "    hist = [sum(1 for value in x if (bin_edges[i] <= value < bin_edges[i + 1]) or (i == n_bins - 1 and value == bin_edges[i + 1])) for i in range(n_bins)]\n",
    "    \n",
    "    ### END SOLUTION\n",
    "\n",
    "    return hist,bin_edges"
   ]
  },
  {
   "cell_type": "code",
   "execution_count": 151,
   "metadata": {},
   "outputs": [],
   "source": [
    "# Test your solution here\n",
    "h,b=histogram(data,100)\n"
   ]
  },
  {
   "cell_type": "markdown",
   "metadata": {},
   "source": [
    "*Exercise 4:* Write a function that uses the histogram function in the previous exercise to create a text-based \"graph\". For example the output could look like the following:\n",
    "```\n",
    "[  0,  1] : ######\n",
    "[  1,  2] : #####\n",
    "[  2,  3] : ######\n",
    "[  3,  4] : ####\n",
    "[  4,  5] : ####\n",
    "[  5,  6] : ######\n",
    "[  6,  7] : #####\n",
    "[  7,  8] : ######\n",
    "[  8,  9] : ####\n",
    "[  9, 10] : #####\n",
    "```\n",
    "\n",
    "Where each line corresponds to a bin and the number of `#`'s are proportional to the value of the data in the bin. "
   ]
  },
  {
   "cell_type": "code",
   "execution_count": 152,
   "metadata": {},
   "outputs": [],
   "source": [
    "# Solution\n",
    "def draw_histogram(hist, bin_edges, character=\"#\", max_character_per_line=20):\n",
    "    ### BEGIN SOLUTION\n",
    "\n",
    "    max_freq = max(hist)\n",
    "\n",
    "    for i in range(len(hist)):\n",
    "        if hist[i] != 0:\n",
    "            print(f\"[{bin_edges[i]}, {bin_edges[i+1]}] :\", character * int(hist[i] / max_freq * max_character_per_line))\n",
    "\n",
    "    ### END SOLUTION\n",
    "\n",
    "    return "
   ]
  },
  {
   "cell_type": "code",
   "execution_count": 153,
   "metadata": {},
   "outputs": [
    {
     "name": "stdout",
     "output_type": "stream",
     "text": [
      "[-9, -8] : #########\n",
      "[-8, -7] : ########\n",
      "[-7, -6] : ########\n",
      "[-6, -5] : ########\n",
      "[-5, -4] : ############\n",
      "[-4, -3] : ##########\n",
      "[-3, -2] : #########\n",
      "[-2, -1] : #########\n",
      "[-1, 0] : ##########\n",
      "[0, 1] : ####################\n",
      "[1, 2] : #######\n",
      "[2, 3] : ##########\n",
      "[3, 4] : ###########\n",
      "[4, 5] : ########\n",
      "[5, 6] : ##########\n",
      "[6, 7] : ########\n",
      "[7, 8] : #########\n",
      "[8, 9] : ###############\n"
     ]
    }
   ],
   "source": [
    "# Test your solution here\n",
    "h,b=histogram(data,20)\n",
    "\n",
    "draw_histogram(h,b)"
   ]
  },
  {
   "cell_type": "markdown",
   "metadata": {},
   "source": [
    "## Functional Programming\n",
    "\n",
    "*Exercise 5:* Write a function the applies a booling function (that returns true/false) to every element in data, and return a list of indices of elements where the result was true. Use this function to find the indices of entries greater than 0.5. "
   ]
  },
  {
   "cell_type": "code",
   "execution_count": 154,
   "metadata": {},
   "outputs": [],
   "source": [
    "def where(mylist,myfunc):\n",
    "    out= []\n",
    "    \n",
    "    ### BEGIN SOLUTION\n",
    "\n",
    "    out = [i for i in range(len(mylist)) if myfunc(mylist[i])]\n",
    "    \n",
    "    ### END SOLUTION\n",
    "    \n",
    "    return out"
   ]
  },
  {
   "cell_type": "code",
   "execution_count": 155,
   "metadata": {},
   "outputs": [
    {
     "name": "stdout",
     "output_type": "stream",
     "text": [
      "[6, 7, 8, 13, 16, 20, 21, 23, 26, 27, 29, 31, 32, 33, 37, 38, 40, 42, 43, 46, 48, 51, 58, 61, 65, 66, 67, 69, 70, 71, 72, 74, 79, 83, 85, 86, 87, 88, 90, 91, 93, 94, 96, 98, 100, 104, 105, 106, 107, 108, 109, 110, 113, 115, 120, 121, 124, 125, 126, 127, 128, 129, 130, 133, 134, 135, 139, 141, 144, 145, 146, 149, 151, 154, 155, 156, 157, 162, 165, 166, 170, 172, 176, 177, 179, 182, 183, 184, 189, 190, 193, 194, 196, 197, 198, 199, 200, 201, 206, 207, 208, 213, 218, 220, 225, 229, 230, 231, 234, 240, 241, 242, 243, 244, 247, 248, 249, 250, 253, 256, 257, 260, 261, 264, 266, 267, 268, 270, 274, 275, 283, 284, 285, 287, 288, 289, 290, 292, 294, 298, 300, 307, 310, 311, 313, 315, 318, 319, 322, 323, 324, 325, 328, 329, 330, 336, 337, 343, 344, 350, 352, 359, 360, 362, 363, 365, 366, 371, 372, 373, 379, 383, 386, 388, 389, 394, 395, 396, 397, 398, 402, 408, 412, 413, 414, 415, 419, 421, 423, 424, 425, 427, 430, 431, 435, 440, 443, 446, 447, 448, 450, 453, 455, 459, 460, 461, 462, 463, 464, 465, 466, 468, 470, 471, 472, 474, 479, 480, 482, 487, 488, 489, 495, 499, 500, 503, 509, 511, 512, 521, 523, 527, 528, 531, 534, 538, 539, 543, 545, 546, 547, 549, 554, 559, 564, 566, 567, 569, 570, 571, 577, 580, 581, 585, 588, 589, 592, 594, 595, 598, 599, 606, 609, 610, 613, 615, 618, 620, 622, 624, 625, 626, 629, 630, 631, 633, 636, 639, 641, 644, 645, 646, 649, 650, 651, 652, 654, 655, 660, 664, 668, 675, 677, 681, 687, 690, 693, 695, 699, 700, 702, 704, 707, 711, 712, 713, 719, 720, 723, 731, 735, 736, 737, 745, 747, 748, 749, 752, 754, 758, 760, 762, 765, 767, 771, 772, 773, 776, 777, 779, 781, 783, 785, 786, 788, 790, 793, 798, 800, 804, 805, 810, 811, 812, 814, 815, 816, 818, 820, 826, 827, 829, 833, 834, 837, 848, 849, 851, 852, 856, 857, 860, 862, 863, 864, 865, 867, 869, 871, 875, 877, 879, 880, 881, 882, 885, 891, 896, 897, 898, 900, 901, 902, 903, 904, 906, 910, 911, 912, 913, 915, 916, 917, 918, 919, 920, 921, 922, 923, 925, 929, 930, 931, 932, 933, 934, 936, 938, 941, 943, 948, 952, 953, 956, 958, 959, 964, 965, 966, 971, 972, 974, 975, 978, 982, 986, 987, 990]\n"
     ]
    }
   ],
   "source": [
    "# Test your solution here\n",
    "indicies = where(data, lambda x: x > 0.5)\n",
    "\n",
    "print(indicies)"
   ]
  },
  {
   "cell_type": "markdown",
   "metadata": {},
   "source": [
    "*Exercise 6:* The `inrange(mymin,mymax)` function below returns a function that tests if it's input is between the specified values. Write corresponding functions that test:\n",
    "* Even\n",
    "* Odd\n",
    "* Greater than\n",
    "* Less than\n",
    "* Equal\n",
    "* Divisible by"
   ]
  },
  {
   "cell_type": "code",
   "execution_count": 156,
   "metadata": {},
   "outputs": [
    {
     "name": "stdout",
     "output_type": "stream",
     "text": [
      "True True False False False\n",
      "False False True True False\n",
      "Number of Entries passing F1: 533\n",
      "Number of Entries passing F2: 0\n"
     ]
    }
   ],
   "source": [
    "def in_range(mymin,mymax):\n",
    "    def testrange(x):\n",
    "        return x<mymax and x>=mymin\n",
    "    return testrange\n",
    "\n",
    "# Examples:\n",
    "F1=in_range(0,10)\n",
    "F2=in_range(10,20)\n",
    "\n",
    "# Test of in_range\n",
    "print (F1(0), F1(1), F1(10), F1(15), F1(20))\n",
    "print (F2(0), F2(1), F2(10), F2(15), F2(20))\n",
    "\n",
    "print (\"Number of Entries passing F1:\", len(where(data,F1)))\n",
    "print (\"Number of Entries passing F2:\", len(where(data,F2)))"
   ]
  },
  {
   "cell_type": "code",
   "execution_count": 157,
   "metadata": {},
   "outputs": [],
   "source": [
    "### BEGIN SOLUTION\n",
    "\n",
    "def even():\n",
    "    def is_even(x):\n",
    "        return x%2==0\n",
    "    return is_even\n",
    "\n",
    "def odd():\n",
    "    def is_odd(x):\n",
    "        return x%2!=0\n",
    "    return is_odd\n",
    "\n",
    "def greater_than(x):\n",
    "    def is_greater_than(y):\n",
    "        return y>x\n",
    "    return is_greater_than\n",
    "\n",
    "def less_than(x):\n",
    "    def is_less_than(y):\n",
    "        return y<x\n",
    "    return is_less_than\n",
    "\n",
    "def equal(x):\n",
    "    def is_equal(y):\n",
    "        return y==x\n",
    "    return is_equal\n",
    "\n",
    "def divisible(x):\n",
    "    def is_divisible(y):\n",
    "        return y%x==0\n",
    "    return is_divisible\n",
    "    \n",
    "    \n",
    "### END SOLUTION"
   ]
  },
  {
   "cell_type": "code",
   "execution_count": 158,
   "metadata": {},
   "outputs": [
    {
     "name": "stdout",
     "output_type": "stream",
     "text": [
      "[-9, 0, -9, 0, -9, -5, 2, 9, 3, -4, -2, 0, -3, 9, -3, -9, 8, -9, -6, -5, 2, 3, -5, 5, -2, 0, 6, 9, -3, 3, -3, 3, 7, 2, -5, -9, -2, 3, 8, -1, 9, 0, 2, 1, -2, -6, 4, 0, 3, -2, -5, 5, -8, -3, -7, -7, -7, 0, 9, 0, -5, 6, -5, -7, 0, 1, 4, 5, 0, 8, 7, 6, 8, -6, 1, -6, 0, -2, -8, 8, 0, -4, -4, 3, -8, 7, 7, 2, 7, 0, 6, 6, 0, 1, 4, -5, 3, -5, 8, -5, 7, -7, 0, -9, 3, 4, 2, 7, 2, 3, 6, -9, 0, 2, -6, 5, -8, -3, -4, -4, 1, 6, 0, -2, 1, 4, 9, 5, 1, 5, 8, 0, 0, 8, 5, 9, -9, -4, 0, 6, -4, 9, -3, -3, 5, 5, 2, -1, -7, 6, -1, 8, -1, -3, 3, 2, 2, 5, -4, -1, -7, -5, 9, -5, 0, 3, 6, -4, -3, 0, 7, -1, 5, -5, -6, -2, 1, 8, -5, 5, -5, -6, 3, 7, 9, -7, -5, -4, -7, 8, 3, -3, -4, 8, 3, -8, 4, 6, 9, 2, 7, 8, -5, -5, -2, -6, 5, 3, 8, 0, -8, -1, -6, 6, -4, -9, -3, -3, 7, -2, 4, -4, -9, 0, 0, 3, -1, -4, -5, 1, 3, 2, -7, -6, 5, 0, -8, -2, 0, -7, 3, 4, 5, 7, 7, -3, -1, 3, 9, 9, 3, -6, -7, 5, -4, -7, 2, 6, -4, -9, 5, 9, -8, -8, 2, -7, 1, 4, 9, -3, 5, -9, -8, -6, 2, 2, 0, 0, -9, -9, -4, -7, -9, 7, 7, 7, -1, 7, 1, 2, 9, -2, 8, 0, 7, -5, -9, -7, 4, -5, 5, 0, -5, -5, -2, 0, -4, 3, -1, -2, 4, 5, -3, 7, -7, 7, -3, 0, 6, 4, 0, -7, 8, 8, 1, 3, -6, -1, 6, 7, 5, 0, -8, 0, -4, -2, 1, 3, -3, -1, -6, -5, -1, 1, 5, -3, -5, -5, 0, -5, 8, -6, 3, 0, -5, -4, -7, 0, -8, 6, 3, -5, 4, 7, 0, 7, 9, -2, -9, -3, 0, 2, 5, 7, -4, -1, -4, -1, -4, 9, -7, -8, -3, 7, -6, -3, 5, -6, 7, 8, -4, -9, 0, -8, 5, 6, 9, 4, 1, -4, -3, 0, 6, -7, 0, -4, -9, 0, 8, -6, -1, -8, 4, 5, 2, 2, -7, -2, -8, 8, 0, 2, -3, 9, 4, 8, -6, 4, -3, -6, 2, 9, -8, -7, 0, 2, -4, -5, -1, -2, 8, -2, -7, 1, -4, -1, 3, 4, 2, -8, 3, 0, -3, 3, -2, 1, -3, -5, -9, 6, 2, 4, 3, 1, 9, 2, 1, -5, 6, -5, 4, 9, 9, -2, 2, -6, -3, -8, -2, 4, 5, 0, 2, -4, -1, 0, -9, 9, 6, 6, -7, -6, -3, -7, -4, 2, 0, -8, 0, 5, 9, -8, -1, 3, -1, -6, -1, 0, 0, 8, -1, 4, 3, -9, -1, -9, -6, 0, -7, -4, -6, 1, -2, 3, 0, -4, -5, 5, 6, -6, -5, 2, -1, -7, 6, 0, -2, -1, 7, 9, -2, 0, -9, 1, -9, 1, 4, 1, -8, 4, 0, -1, -1, 0, 2, -3, -5, 0, -2, 7, -6, -4, -8, -4, 9, -9, 7, 1, -3, 4, 1, 2, -9, -5, -1, -8, -4, 2, 0, 0, 7, 7, -7, -1, -6, 9, -6, -1, 9, 3, -9, 0, 1, -1, 5, 2, -9, -1, 9, 9, -4, -3, -4, -8, -3, 0, 1, -7, -3, 6, 9, -8, -6, 9, -7, 3, -9, 0, 5, -4, 4, -5, 4, 0, 3, 1, 2, -5, 0, 9, 5, 4, -5, 5, -3, -5, 2, -2, -7, 6, -4, 5, 0, -3, 4, 5, 2, -1, -6, 2, 3, 6, 4, -8, 8, 1, -7, 0, -4, 0, 4, -6, -1, -1, 3, 0, -1, -2, 9, -3, -6, -1, -5, -9, -2, 2, 0, 4, -3, -4, 0, 4, -6, -5, -8, 0, -4, 6, -5, -2, 9, -9, -8, 7, -6, 5, 0, 0, -9, 1, 6, -1, 1, -2, 8, -5, -8, 7, -8, -5, -1, 2, 7, 5, -9, 0, -2, -8, -8, 4, 4, -2, -2, 9, -9, -3, -9, -5, 0, 0, -5, 9, -2, -6, -1, 7, 3, 7, -7, -8, -2, -3, -9, -1, -9, 1, -5, 9, 1, 6, -1, -4, 5, -9, 7, 0, -9, 0, 4, -8, 1, 0, 2, -2, -4, 6, -9, 6, -9, -3, -1, 3, 6, 7, -4, -9, 7, 9, -1, 3, 0, 3, -5, 2, -2, 3, 4, -2, 3, 0, 8, 0, -9, 9, -8, -1, -8, -2, 5, 0, 6, 0, 0, -6, 7, 6, -1, 0, -7, -5, 2, 5, 7, -8, 8, 2, 2, -1, 3, -6, 3, -4, -6, -6, -6, -5, 3, 6, -8, 6, -6, 0, -4, 3, 2, -4, -3, 9, -5, -4, -9, -9, -3, -5, -2, -6, -4, 0, 4, 5, -5, 3, 4, -7, -5, 0, 4, 5, -4, -7, 6, -4, 3, 6, 5, 5, -3, 5, -3, 8, -1, 7, -7, -1, -8, 8, -4, 1, -4, 5, 7, 2, 2, 0, 0, 8, -5, -8, -5, -9, -5, 7, -5, -6, -5, -3, 5, 5, 3, -3, 7, 3, 1, 7, 4, -9, 8, -5, 0, -8, 5, 1, 3, 5, -2, 6, 4, 9, 4, 7, 3, 4, 6, 4, -4, 9, -6, 0, -2, 3, 2, 7, 1, 4, 2, -1, 6, 0, 5, 0, -8, 6, -5, 5, -4, -9, 0, -1, 3, -2, -2, -7, 4, 5, -3, 0, 3, -5, 8, 2, -9, -5, -2, -2, 7, 7, 9, -2, 0, -8, -8, 7, 3, -7, 9, 2, -5, 0, 5, -8, -3, -2, 6, -7, -7, -7, 2, 5, -1, 0, 3, -6, 0, -5, -1, -1, -3, -2, -8, -9]\n",
      "Number of Even Numbers: 482\n",
      "Number of Odd Numbers: 518\n",
      "Number of Numbers Greater than 5: 175\n",
      "Number of Numbers Less than 5: 770\n",
      "Number of Numbers Equal to 5: 55\n",
      "Number of Numbers Divisible by 5: 227\n"
     ]
    }
   ],
   "source": [
    "# Test your solution\n",
    "\n",
    "F1 = even()\n",
    "F2 = odd()\n",
    "F3 = greater_than(5)\n",
    "F4 = less_than(5)\n",
    "F5 = equal(5)\n",
    "F6 = divisible(5)\n",
    "\n",
    "print(data)\n",
    "\n",
    "print (\"Number of Even Numbers:\", len(where(data,F1)))\n",
    "print (\"Number of Odd Numbers:\", len(where(data,F2)))\n",
    "print (\"Number of Numbers Greater than 5:\", len(where(data,F3)))\n",
    "print (\"Number of Numbers Less than 5:\", len(where(data,F4)))\n",
    "\n",
    "print (\"Number of Numbers Equal to 5:\", len(where(data,F5)))\n",
    "print (\"Number of Numbers Divisible by 5:\", len(where(data,F6)))"
   ]
  },
  {
   "cell_type": "markdown",
   "metadata": {},
   "source": [
    "*Exercise 7:* Repeat the previous exercise using `lambda` and the built-in python functions sum and map instead of your solution above. "
   ]
  },
  {
   "cell_type": "code",
   "execution_count": 159,
   "metadata": {},
   "outputs": [
    {
     "name": "stdout",
     "output_type": "stream",
     "text": [
      "Number of even numbers: 482\n",
      "Number of odd numbers: 518\n",
      "Number of numbers greater than 5: 175\n",
      "Number of numbers less than 5: 770\n",
      "Number of numbers equal to 5: 55\n",
      "Number of numbers divisible by 5: 227\n"
     ]
    }
   ],
   "source": [
    "### BEGIN SOLUTION\n",
    "\n",
    "# Define the statements as lambda functions\n",
    "statements = [\n",
    "    lambda x: x % 2 == 0,  # Even\n",
    "    lambda x: x % 2 != 0,  # Odd\n",
    "    lambda x: x > 5,       # Greater than 5\n",
    "    lambda x: x < 5,       # Less than 5\n",
    "    lambda x: x == 5,      # Equal to 5\n",
    "    lambda x: x % 5 == 0   # Divisible by 5\n",
    "]\n",
    "\n",
    "# Calculate the sums using list comprehensions\n",
    "F1 = statements[0]\n",
    "F2 = statements[1]\n",
    "F3 = statements[2]\n",
    "F4 = statements[3]\n",
    "F5 = statements[4]\n",
    "F6 = statements[5]\n",
    "\n",
    "\n",
    "print(\"Number of even numbers:\", len(where(data, F1)))\n",
    "print(\"Number of odd numbers:\", len(where(data, F2)))\n",
    "print(\"Number of numbers greater than 5:\", len(where(data, F3)))\n",
    "print(\"Number of numbers less than 5:\", len(where(data, F4)))\n",
    "print(\"Number of numbers equal to 5:\", len(where(data, F5)))\n",
    "print(\"Number of numbers divisible by 5:\", len(where(data, F6)))\n",
    "\n",
    "    \n",
    "### END SOLUTION"
   ]
  },
  {
   "cell_type": "markdown",
   "metadata": {},
   "source": [
    "## Monte Carlo\n",
    "\n",
    "*Exercise 7:* Write a \"generator\" function called `generate_function(func,x_min,x_max,N)`, that instead of generating a flat distribution, generates a distribution with functional form coded in `func`. Note that `func` will always be > 0.  \n",
    "\n",
    "Use the test function below and your histogramming functions above to demonstrate that your generator is working properly.\n",
    "\n",
    "Hint: A simple, but slow, solution is to a draw random number `test_x` within the specified range and another number `p` between the `min` and `max` of the function (which you will have to determine). If `p<=function(test_x)`, then place `test_x` on the output. If not, repeat the process, drawing two new numbers. Repeat until you have the specified number of generated numbers, `N`. For this problem, it's OK to determine the `min` and `max` by numerically sampling the function.  "
   ]
  },
  {
   "cell_type": "code",
   "execution_count": 160,
   "metadata": {},
   "outputs": [],
   "source": [
    "def generate_function(func,x_min,x_max,N=1000):\n",
    "    out = list()\n",
    "\n",
    "    ### BEGIN SOLUTION\n",
    "    x_samples = [x_min + (x_max - x_min) * i / N for i in range(N + 1)]\n",
    "    func_values = [func(x) for x in x_samples]\n",
    "    f_max = max(func_values)\n",
    "    \n",
    "    generated_count = 0\n",
    "    while generated_count < N:\n",
    "        test_x = random.uniform(x_min, x_max)\n",
    "        p = random.uniform(0, f_max)\n",
    "        if p <= func(test_x):\n",
    "            out.append(test_x)\n",
    "            generated_count += 1\n",
    "    \n",
    "    ### END SOLUTION\n",
    "    \n",
    "    return out"
   ]
  },
  {
   "cell_type": "code",
   "execution_count": 161,
   "metadata": {},
   "outputs": [
    {
     "name": "stdout",
     "output_type": "stream",
     "text": [
      "[0, 1] : #\n",
      "[1, 2] : ##\n",
      "[2, 3] : ####\n",
      "[3, 4] : ####\n",
      "[4, 5] : #####\n",
      "[5, 6] : ######\n",
      "[6, 7] : #######\n",
      "[7, 8] : ########\n",
      "[8, 9] : ###########\n",
      "[9, 10] : ##########\n",
      "[10, 11] : ###########\n",
      "[11, 12] : ############\n",
      "[12, 13] : ############\n",
      "[13, 14] : #################\n",
      "[14, 15] : ###############\n",
      "[15, 16] : ####################\n",
      "[16, 17] : #################\n",
      "[17, 18] : ##############\n",
      "[18, 19] : ###################\n"
     ]
    }
   ],
   "source": [
    "# A test function\n",
    "def test_func(x,a=1,b=1):\n",
    "    return abs(a*x+b)\n",
    "\n",
    "# Generate data using the test function\n",
    "data = generate_function(lambda x: test_func(x),0,20,1000)\n",
    "\n",
    "h,b=histogram(data,20)\n",
    "\n",
    "draw_histogram(h,b)"
   ]
  },
  {
   "cell_type": "markdown",
   "metadata": {},
   "source": [
    "*Exercise 8:* Use your function to generate 1000 numbers that are normal distributed, using the `gaussian` function below. Confirm the mean and variance of the data is close to the mean and variance you specify when building the Gaussian. Histogram the data. "
   ]
  },
  {
   "cell_type": "code",
   "execution_count": 186,
   "metadata": {},
   "outputs": [
    {
     "name": "stdout",
     "output_type": "stream",
     "text": [
      "[-2, -1] : #######\n",
      "[-1, 0] : ##################\n",
      "[0, 1] : ####################\n",
      "[1, 2] : #######\n",
      "[2, 3] : #\n",
      "Mean: -0.004812446575421248\n",
      "Variance: 0.9926621926262054\n"
     ]
    }
   ],
   "source": [
    "import math\n",
    "\n",
    "def gaussian(mean, sigma):\n",
    "    def f(x):\n",
    "        return math.exp(-((x-mean)**2)/(2*sigma**2))/math.sqrt(2 * math.pi * sigma**2)\n",
    "    return f\n",
    "\n",
    "# Example Instantiation\n",
    "g1=gaussian(0,1)\n",
    "\n",
    "# Test of Gaussian\n",
    "data = generate_function(g1, -10,10,1000)\n",
    "\n",
    "h,b=histogram(data,20)\n",
    "\n",
    "draw_histogram(h,b)\n",
    "\n",
    "m = mean(data)\n",
    "v = variance(data)\n",
    "\n",
    "print (\"Mean:\", m)\n",
    "print (\"Variance:\", v)\n",
    "\n"
   ]
  },
  {
   "cell_type": "markdown",
   "metadata": {},
   "source": [
    "*Exercise 9:* Combine your `generate_function`, `where`, and `in_range` functions above to create an integrate function. Use your integrate function to show that approximately 68% of Normal distribution is within one variance."
   ]
  },
  {
   "cell_type": "code",
   "execution_count": 177,
   "metadata": {},
   "outputs": [],
   "source": [
    "def integrate(func, x_min, x_max, n_points=1000):\n",
    "    integral = 0\n",
    "    \n",
    "    ### BEGIN SOLUTION\n",
    "    # Generate random samples from the function within the range [x_min, x_max]\n",
    "    samples = generate_function(func, x_min, x_max, n_points)\n",
    "    \n",
    "    # Define the range for filtering (one standard deviation for Gaussian)\n",
    "    mymin = -1 \n",
    "    mymax = 1  \n",
    "    \n",
    "    # Find indices of samples within the range [mymin, mymax]\n",
    "    indices = where(samples, in_range(mymin, mymax))\n",
    "    \n",
    "    # Calculate the proportion of samples within the range\n",
    "    proportion = len(indices) / n_points\n",
    "    \n",
    "    # Estimate the integral as the proportion multiplied by the total area\n",
    "    integral = proportion\n",
    "    ### END SOLUTION\n",
    "    \n",
    "    return integral\n",
    "\n"
   ]
  },
  {
   "cell_type": "code",
   "execution_count": 181,
   "metadata": {},
   "outputs": [
    {
     "name": "stdout",
     "output_type": "stream",
     "text": [
      "0.682\n"
     ]
    }
   ],
   "source": [
    "# Test your solution\n",
    "print(integrate(g1,-10,10,1000))"
   ]
  }
 ],
 "metadata": {
  "kernelspec": {
   "display_name": "Python 3",
   "language": "python",
   "name": "python3"
  },
  "language_info": {
   "codemirror_mode": {
    "name": "ipython",
    "version": 3
   },
   "file_extension": ".py",
   "mimetype": "text/x-python",
   "name": "python",
   "nbconvert_exporter": "python",
   "pygments_lexer": "ipython3",
   "version": "3.12.1"
  }
 },
 "nbformat": 4,
 "nbformat_minor": 2
}
