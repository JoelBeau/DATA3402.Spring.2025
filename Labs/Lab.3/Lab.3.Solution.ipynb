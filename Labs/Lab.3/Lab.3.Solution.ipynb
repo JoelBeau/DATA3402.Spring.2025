{
 "cells": [
  {
   "cell_type": "markdown",
   "metadata": {},
   "source": [
    "# Lab 3\n",
    "\n",
    "In this lab we will become familiar with distributions, histograms, and functional programming. Do not use numpy or any other library for this lab.\n",
    "\n",
    "Before that, lets get setup homework submission and submit your previous lab.  \n",
    "\n",
    "## Working on the Command-line.\n",
    "\n",
    "It is important for you to learn to work on the command line and to be familiar with the Unix environment (e.g. Linux, Mac OS, or Windows Linux Subsystem). We'll go over working on the command-line in detail later in the course.\n",
    "\n",
    "You are required to submit your work in this course via GitHub. Today in class, you will setup everything on the command-line.\n",
    "\n",
    "### Command-line basics\n",
    "\n",
    "There is plenty of material online that will help you figure out how to do various tasks on the command line. Commands you may need to know today:\n",
    "\n",
    "* `ls`: lists the contents of the current directory.\n",
    "* `pwd`: prints the path of the current directory.\n",
    "* `cd <directory>`: changes your current directory to the specified directory.\n",
    "* `cd ..`: changes current directory to the previous directory. Basically steps out of the current directory to the directory containing the current directory.\n",
    "* `mkdir <directory>`: create a new directory with the specified name.\n",
    "* `rmdir <directory>`: removes the specified directory. Note it has to be empty.\n",
    "* `rm <filename>`: deletes the specified file.\n",
    "* `mv <filename 1> <filename 2>`: Moves or renames a file.\n",
    "* `cp <filename 1> <filename 2>`: copies an file. If you just provide a path to a directory, it copies the file into that directory with the same filename. If you specifiy a new filename, the copy has a new name. For example `cp File.1.txt File.2.txt` creates a copy of `File.1.txt` with the name `File.2.txt`. Meanwhile `cp File.1.txt my_directory`, where `my_directory` is a directory, creates a copy of `File.1.txt` in directory `my_directory` with the name `File.1.txt`.\n",
    "\n",
    "For reference, here are some example resources I found by googling:\n",
    "\n",
    "* Paths and Wildcards: https://www.warp.dev/terminus/linux-wildcards\n",
    "* Basic commands like copy: https://kb.iu.edu/d/afsk\n",
    "* General introduction to shell: https://github-pages.ucl.ac.uk/RCPSTrainingMaterials/HPCandHTCusingLegion/2_intro_to_shell.html\n",
    "* Manual pages: https://www.geeksforgeeks.org/linux-man-page-entries-different-types/?ref=ml_lbp\n",
    "* Chaining commands: https://www.geeksforgeeks.org/chaining-commands-in-linux/?ref=ml_lbp\n",
    "* Piping: https://www.geeksforgeeks.org/piping-in-unix-or-linux/\n",
    "* Using sed: https://www.geeksforgeeks.org/sed-command-linux-set-2/?ref=ml_lbp\n",
    "* Various Unix commands: https://www.geeksforgeeks.org/linux-commands/?ref=lbp\n",
    "* Cheat sheets:\n",
    "    * https://www.stationx.net/unix-commands-cheat-sheet/\n",
    "    * https://cheatography.com/davechild/cheat-sheets/linux-command-line/\n",
    "    * https://www.theknowledgeacademy.com/blog/unix-commands-cheat-sheet/\n",
    "    \n",
    "These aren't necessarily the best resources. Feel free to search for better ones. Also, don't forget that Unix has built-in manual pages for all of its commands. Just type `man <command>` at the command prompt. Use the space-bar to scroll through the documentation and \"q\" to exit.\n",
    "\n",
    "\n",
    "### Setup and Submission\n",
    "\n",
    "Our course repository is public. The instructions here aim to have you setup a fork of the course repository. Unfortunately because you are forking a public repo, your fork will have to be public also. \n",
    "\n",
    "You should be familiar with git from the first semester of this course. I assume that you all have github accounts and have setup things to be able to [push to github using ssh](https://docs.github.com/en/github/authenticating-to-github/connecting-to-github-with-ssh). The instuctions here lead you to:\n",
    "\n",
    "We'll overview what you will do before going through step by step instructions.\n",
    "\n",
    "1. Setup:\n",
    "    1. Fork the class repository. Some directions in [fork-a-repo](https://docs.github.com/en/github/getting-started-with-github/fork-a-repo).\n",
    "    1. Create a directory on your personal system where you will keep all course materials.\n",
    "    1. In that directory, clone your fork of the repository.\n",
    "    1. Using `git remote`, set the upstream to be the class repo, so you can pull from the class and push to your fork.\n",
    "\n",
    "1. Submission:\n",
    "    1. Copy your solutions into the appropriate directory (e.g. into `Labs/Lab.2/`) and with appropriate filename `Lab.2.solution.ipynb'.\n",
    "    1. Commit / push your solutions.\n",
    "    1. Grant access to course instructors.\n",
    "\n",
    "Below are step by step instructions with examples (including example directory naming convention). Feel free to modify things as you see fit. \n",
    "\n",
    "#### Setup\n",
    "You should only need to follow this instructions once. Here are some useful git commands:\n",
    "\n",
    "* Git help: `git help`\n",
    "* Git remote help: `git help remote`\n",
    "* Check remote status: `git remote -v`\n",
    "* Add a remote: `git remote add <stream name> <repo URL>`\n",
    "* Add a remove: `git remote remove <stream name>`\n",
    "\n",
    "Steps:\n",
    "1. In a browser, log into GitHub and navigate to the [course repository](https://github.com/UTA-DataScience/DATA3402.Spring.2025).\n",
    "1. On the top right of the page, press the fork button to create a new fork into your own GitHub account.\n",
    "1. After successful fork, you should find the browser showing your fork of the course repository. Use the green \"Code\" button to copy path to the repo into your the clipboard of your computer.\n",
    "1. Open a shell on your personal computer.\n",
    "1. If you have not done so already, create a new directory/folder where you will keep all course material to navigate to it. For example: `mkdir Data-3402` and `cd Data-3402`.\n",
    "1. Clone your fork of the repository using `git clone` followed by the path you copied into your clipboard. (copy/paste)\n",
    "1. Paste the URL to your fork in the worksheet for the TAs and instructors.\n",
    "1. Now go into the directory of your clone (`cd DATA3402.Spring.2025`).\n",
    "1. Type `git remote -v` to see the current setup for fetch and pull.\n",
    "1. Note the URL you see. This should be the same as what you used for your clone for both push and fetch.\n",
    "1. Delete the origin remote using `git remote remove origin`.\n",
    "1. Add the course repo as your remote using `git remote add origin https://github.com/UTA-DataScience/DATA3402.Spring.2025.git`.\n",
    "1. Change the push to point to your fork. This means you will need the URL to your clone we copied earlier and confirmed as the original origin. The command will look something like: `git remote set-url --push origin  https://github.com/XXXXXX/DATA3402.Spring.2025.git`, where XXXXX is your username on GitHub.\n",
    "1. Note that if you setup everything correctly, you now should be able to do `git pull` to get updates from the course repo, and do `git push` to push your commits into your own fork.\n",
    "\n",
    "### Submission\n",
    "These instructions outline how you submit files. Some useful commands:\n",
    "* To add a file to local repository: `git add <file>`.\n",
    "* To commit all changed files into local repository: `git -a -m \"A message\"`. You need to provide some comment when you commit. \n",
    "* To push the commited files from the local repository to GitHub: `git push`.\n",
    "* To get updates from GitHub: `git pull`.\n",
    "\n",
    "Steps:\n",
    "1. To submit your labs, navigate to your clone of your fork of the course repository. \n",
    "1. Use `git pull` to make sure you have the latest updates. \n",
    "1. Make sure your copy of the lab your are working on is in the appropriate place in this clone. That means if you have the file elsewhere, copy it to the same directory in your clone of your fork. \n",
    "1. Note that in order to avoid future conflicts, you should always name your solution differently than the original file in the class repo. For example if your file is still named `Lab.2.ipynb` you should rename it using the `mv` command: `mv Lab.2.ipynb Lab.2.solution.ipynb`. \n",
    "1. Add and files you wish to submit into the repo. For example: `git add Labs/Lab.2/Lab.2.solution.ipynb`\n",
    "1. Commit any changes: `git commit -a -m \"Lab 2 updates\"`\n",
    "1. Push your changes: `git push`\n",
    "1. Check on github website that your solutions have been properly submitted.\n",
    "\n",
    "Before you leave the session today, make sure your GitHub Repo is setup. If you need to work further on your lab, navigate jupyter to the copy of the lab you just submitted and work there. Once done, repeat the commit and push commands to submit your updated solution. Note that lab 2 is due by midnight Friay 1/31/2025.\n"
   ]
  },
  {
   "cell_type": "markdown",
   "metadata": {},
   "source": [
    "### Uniform Distribution\n",
    "Lets start with generating some fake random data. You can get a random number between 0 and 1 using the python random module as follow:"
   ]
  },
  {
   "cell_type": "code",
   "execution_count": 5,
   "metadata": {},
   "outputs": [
    {
     "name": "stdout",
     "output_type": "stream",
     "text": [
      "The Value of x is 0.7683326207236699\n"
     ]
    }
   ],
   "source": [
    "import random\n",
    "x=random.random()\n",
    "print(\"The Value of x is\", x)"
   ]
  },
  {
   "cell_type": "markdown",
   "metadata": {},
   "source": [
    "Everytime you call random, you will get a new number.\n",
    "\n",
    "*Exercise 1:* Using random, write a function `generate_uniform(N, mymin, mymax)`, that returns a python list containing N random numbers between specified minimum and maximum value. Note that you may want to quickly work out on paper how to turn numbers between 0 and 1 to between other values. "
   ]
  },
  {
   "cell_type": "code",
   "execution_count": 6,
   "metadata": {},
   "outputs": [],
   "source": [
    "# Skeleton\n",
    "def generate_uniform(N,x_min,x_max):\n",
    "    out = []\n",
    "    ### BEGIN SOLUTION\n",
    "    out = [int(random.uniform(x_min, x_max)) for _ in range(N)]\n",
    "    ### END SOLUTION\n",
    "    return out"
   ]
  },
  {
   "cell_type": "code",
   "execution_count": 7,
   "metadata": {},
   "outputs": [
    {
     "name": "stdout",
     "output_type": "stream",
     "text": [
      "Data Type: <class 'list'>\n",
      "Data Length: 1000\n",
      "Type of Data Contents: <class 'int'>\n",
      "Data Minimum: -9\n",
      "Data Maximum: 9\n"
     ]
    }
   ],
   "source": [
    "# Test your solution here\n",
    "data=generate_uniform(1000,-10,10)\n",
    "print (\"Data Type:\", type(data))\n",
    "print (\"Data Length:\", len(data))\n",
    "if len(data)>0: \n",
    "    print (\"Type of Data Contents:\", type(data[0]))\n",
    "    print (\"Data Minimum:\", min(data))\n",
    "    print (\"Data Maximum:\", max(data))"
   ]
  },
  {
   "cell_type": "markdown",
   "metadata": {},
   "source": [
    "*Exercise 2a:* \n",
    "Write a function that computes the mean of values in a list. Recall the equation for the mean of a random variable $\\bf{x}$ computed on a data set of $n$ values $\\{ x_i \\} = \\{x_1, x_2, ..., x_n\\}$  is ${\\bf\\bar{x}} = \\frac{1}{n} \\sum_i^n x_i$."
   ]
  },
  {
   "cell_type": "code",
   "execution_count": 8,
   "metadata": {},
   "outputs": [],
   "source": [
    "# Skeleton\n",
    "def mean(Data):\n",
    "    m=0.\n",
    "    \n",
    "    ### BEGIN SOLUTION\n",
    "\n",
    "    m = sum(Data)/len(Data)       \n",
    "    \n",
    "    ### END SOLUTION\n",
    "    \n",
    "    return m"
   ]
  },
  {
   "cell_type": "code",
   "execution_count": 9,
   "metadata": {},
   "outputs": [
    {
     "name": "stdout",
     "output_type": "stream",
     "text": [
      "Mean of Data: 0.155\n"
     ]
    }
   ],
   "source": [
    "# Test your solution here\n",
    "print (\"Mean of Data:\", mean(data))"
   ]
  },
  {
   "cell_type": "markdown",
   "metadata": {},
   "source": [
    "*Exercise 2b:* \n",
    "Write a function that computes the variance of values in a list. Recall the equation for the variance of a random variable $\\bf{x}$ computed on a data set of $n$ values $\\{ x_i \\} = \\{x_1, x_2, ..., x_n\\}$  is ${\\bf\\langle x \\rangle} = \\frac{1}{n} \\sum_i^n (x_i - {\\bf\\bar{x}})$."
   ]
  },
  {
   "cell_type": "code",
   "execution_count": 10,
   "metadata": {},
   "outputs": [],
   "source": [
    "# Skeleton\n",
    "def variance(Data):\n",
    "    m=0.\n",
    "\n",
    "    d_mean = mean(data)\n",
    "    \n",
    "    ### BEGIN SOLUTION\n",
    "\n",
    "    m = sum([(x - d_mean) for x in Data])/len(Data)     \n",
    "    \n",
    "    ### END SOLUTION\n",
    "    \n",
    "    return m"
   ]
  },
  {
   "cell_type": "code",
   "execution_count": 11,
   "metadata": {},
   "outputs": [
    {
     "name": "stdout",
     "output_type": "stream",
     "text": [
      "Variance of Data: 2.0122792321330962e-17\n"
     ]
    }
   ],
   "source": [
    "# Test your solution here\n",
    "print (\"Variance of Data:\", variance(data))"
   ]
  },
  {
   "cell_type": "markdown",
   "metadata": {},
   "source": [
    "## Histogramming"
   ]
  },
  {
   "cell_type": "markdown",
   "metadata": {},
   "source": [
    "*Exercise 3:* Write a function that bins the data so that you can create a histogram. An example of how to implement histogramming is the following logic:\n",
    "\n",
    "* User inputs a list of values `x` and optionally `n_bins` which defaults to 10.\n",
    "* If not supplied, find the minimum and maximum (`x_min`,`x_max`) of the values in x.\n",
    "* Determine the bin size (`bin_size`) by dividing the range of the function by the number of bins.\n",
    "* Create an empty list of zeros of size `n_bins`, call it `hist`.\n",
    "* Loop over the values in `x`\n",
    "    * Loop over the values in `hist` with index `i`:\n",
    "        * If x is between `x_min+i*bin_size` and `x_min+(i+1)*bin_size`, increment `hist[i].` \n",
    "        * For efficiency, try to use continue to goto the next bin and data point.\n",
    "* Return `hist` and the list corresponding of the bin edges (i.e. of `x_min+i*bin_size`).    "
   ]
  },
  {
   "cell_type": "code",
   "execution_count": 12,
   "metadata": {},
   "outputs": [],
   "source": [
    "# Solution\n",
    "def histogram(x,n_bins=10,x_min=None,x_max=None):\n",
    "\n",
    "    ### BEGIN SOLUTION\n",
    "\n",
    "    if x_min==None:\n",
    "        x_min=min(x)\n",
    "    if x_max==None:\n",
    "        x_max=max(x)\n",
    "\n",
    "    r = x_max-x_min\n",
    "\n",
    "    bin_size = r/n_bins\n",
    "\n",
    "    hist = [0]*n_bins\n",
    "\n",
    "      # Create the list of bin edges\n",
    "    bin_edges = [int(x_min + i * bin_size) for i in range(n_bins + 1)]\n",
    "    \n",
    "    # Create the histogram using list comprehension\n",
    "    hist = [sum(1 for value in x if (bin_edges[i] <= value < bin_edges[i + 1]) or (i == n_bins - 1 and value == bin_edges[i + 1])) for i in range(n_bins)]\n",
    "    \n",
    "    ### END SOLUTION\n",
    "\n",
    "    return hist,bin_edges"
   ]
  },
  {
   "cell_type": "code",
   "execution_count": 13,
   "metadata": {},
   "outputs": [],
   "source": [
    "# Test your solution here\n",
    "h,b=histogram(data,100)\n"
   ]
  },
  {
   "cell_type": "markdown",
   "metadata": {},
   "source": [
    "*Exercise 4:* Write a function that uses the histogram function in the previous exercise to create a text-based \"graph\". For example the output could look like the following:\n",
    "```\n",
    "[  0,  1] : ######\n",
    "[  1,  2] : #####\n",
    "[  2,  3] : ######\n",
    "[  3,  4] : ####\n",
    "[  4,  5] : ####\n",
    "[  5,  6] : ######\n",
    "[  6,  7] : #####\n",
    "[  7,  8] : ######\n",
    "[  8,  9] : ####\n",
    "[  9, 10] : #####\n",
    "```\n",
    "\n",
    "Where each line corresponds to a bin and the number of `#`'s are proportional to the value of the data in the bin. "
   ]
  },
  {
   "cell_type": "code",
   "execution_count": 14,
   "metadata": {},
   "outputs": [],
   "source": [
    "# Solution\n",
    "def draw_histogram(hist, bin_edges, character=\"#\", max_character_per_line=20):\n",
    "    ### BEGIN SOLUTION\n",
    "\n",
    "    max_freq = max(hist)\n",
    "\n",
    "    for i in range(len(hist)):\n",
    "        if hist[i] != 0:\n",
    "            print(f\"[{bin_edges[i]}, {bin_edges[i+1]}] :\", character * int(hist[i] / max_freq * max_character_per_line))\n",
    "\n",
    "    ### END SOLUTION\n",
    "\n",
    "    return "
   ]
  },
  {
   "cell_type": "code",
   "execution_count": 15,
   "metadata": {},
   "outputs": [
    {
     "name": "stdout",
     "output_type": "stream",
     "text": [
      "[-9, -8] : #######\n",
      "[-8, -7] : ########\n",
      "[-7, -6] : #########\n",
      "[-6, -5] : ###########\n",
      "[-5, -4] : #########\n",
      "[-4, -3] : #######\n",
      "[-3, -2] : ##########\n",
      "[-2, -1] : ###########\n",
      "[-1, 0] : ########\n",
      "[0, 1] : ###############\n",
      "[1, 2] : ##########\n",
      "[2, 3] : #######\n",
      "[3, 4] : #########\n",
      "[4, 5] : ########\n",
      "[5, 6] : ###########\n",
      "[6, 7] : #########\n",
      "[7, 8] : #########\n",
      "[8, 9] : ####################\n"
     ]
    }
   ],
   "source": [
    "# Test your solution here\n",
    "h,b=histogram(data,20)\n",
    "\n",
    "draw_histogram(h,b)"
   ]
  },
  {
   "cell_type": "markdown",
   "metadata": {},
   "source": [
    "## Functional Programming\n",
    "\n",
    "*Exercise 5:* Write a function the applies a booling function (that returns true/false) to every element in data, and return a list of indices of elements where the result was true. Use this function to find the indices of entries greater than 0.5. "
   ]
  },
  {
   "cell_type": "code",
   "execution_count": 16,
   "metadata": {},
   "outputs": [],
   "source": [
    "def where(mylist,myfunc):\n",
    "    out= []\n",
    "    \n",
    "    ### BEGIN SOLUTION\n",
    "\n",
    "    out = [i for i in range(len(mylist)) if myfunc(mylist[i])]\n",
    "    \n",
    "    ### END SOLUTION\n",
    "    \n",
    "    return out"
   ]
  },
  {
   "cell_type": "code",
   "execution_count": 17,
   "metadata": {},
   "outputs": [
    {
     "name": "stdout",
     "output_type": "stream",
     "text": [
      "[4, 5, 7, 10, 12, 14, 16, 17, 18, 23, 25, 28, 29, 30, 31, 32, 34, 35, 36, 38, 40, 45, 49, 56, 60, 61, 63, 67, 68, 69, 76, 83, 89, 93, 95, 98, 101, 103, 105, 107, 109, 112, 114, 116, 117, 119, 122, 123, 125, 128, 129, 130, 131, 132, 133, 135, 138, 143, 144, 145, 148, 153, 155, 160, 162, 165, 166, 168, 170, 173, 174, 179, 185, 186, 188, 191, 193, 195, 197, 198, 203, 205, 207, 210, 212, 213, 214, 217, 219, 220, 224, 225, 227, 229, 230, 232, 233, 234, 235, 240, 242, 243, 244, 248, 250, 252, 254, 255, 256, 258, 259, 264, 265, 266, 267, 269, 271, 272, 274, 278, 283, 284, 285, 286, 287, 288, 289, 290, 291, 292, 294, 298, 304, 306, 311, 315, 316, 319, 320, 324, 325, 327, 330, 331, 332, 333, 337, 339, 341, 342, 344, 347, 348, 355, 357, 362, 367, 368, 370, 373, 375, 377, 380, 382, 389, 390, 391, 393, 394, 396, 397, 398, 399, 400, 401, 402, 403, 412, 414, 415, 416, 419, 424, 428, 429, 431, 436, 437, 438, 445, 448, 450, 454, 458, 460, 461, 462, 463, 464, 465, 467, 469, 471, 473, 476, 477, 478, 479, 483, 486, 489, 491, 492, 493, 494, 495, 496, 497, 499, 501, 502, 503, 504, 506, 509, 510, 514, 517, 520, 522, 523, 524, 525, 526, 527, 528, 530, 534, 537, 538, 542, 544, 545, 547, 549, 552, 555, 556, 561, 562, 563, 564, 566, 567, 569, 570, 571, 572, 573, 578, 579, 587, 588, 589, 590, 593, 594, 595, 599, 600, 602, 603, 604, 607, 610, 611, 612, 613, 614, 616, 617, 619, 621, 622, 623, 625, 626, 628, 631, 632, 635, 636, 638, 639, 640, 642, 643, 645, 651, 652, 654, 655, 656, 658, 659, 661, 662, 664, 666, 667, 668, 671, 674, 676, 678, 680, 682, 684, 686, 688, 689, 691, 695, 699, 703, 707, 709, 713, 714, 715, 717, 719, 721, 725, 729, 731, 733, 735, 736, 741, 743, 744, 745, 746, 748, 749, 753, 758, 760, 761, 762, 763, 765, 766, 768, 773, 776, 777, 779, 780, 785, 787, 788, 790, 792, 797, 798, 799, 800, 801, 802, 803, 808, 810, 811, 813, 814, 815, 816, 817, 820, 822, 828, 831, 834, 835, 836, 841, 845, 846, 847, 848, 849, 852, 854, 855, 857, 866, 870, 873, 874, 875, 876, 877, 880, 882, 883, 884, 885, 886, 887, 891, 894, 895, 896, 897, 898, 899, 901, 903, 906, 909, 911, 912, 913, 914, 915, 916, 917, 921, 924, 925, 928, 929, 931, 932, 933, 935, 939, 941, 943, 944, 946, 949, 952, 953, 955, 956, 958, 962, 964, 968, 975, 977, 978, 980, 981, 982, 991, 992, 998]\n"
     ]
    }
   ],
   "source": [
    "# Test your solution here\n",
    "indicies = where(data, lambda x: x > 0.5)\n",
    "\n",
    "print(indicies)"
   ]
  },
  {
   "cell_type": "markdown",
   "metadata": {},
   "source": [
    "*Exercise 6:* The `inrange(mymin,mymax)` function below returns a function that tests if it's input is between the specified values. Write corresponding functions that test:\n",
    "* Even\n",
    "* Odd\n",
    "* Greater than\n",
    "* Less than\n",
    "* Equal\n",
    "* Divisible by"
   ]
  },
  {
   "cell_type": "code",
   "execution_count": 18,
   "metadata": {},
   "outputs": [
    {
     "name": "stdout",
     "output_type": "stream",
     "text": [
      "True True False False False\n",
      "False False True True False\n",
      "Number of Entries passing F1: 546\n",
      "Number of Entries passing F2: 0\n"
     ]
    }
   ],
   "source": [
    "def in_range(mymin,mymax):\n",
    "    def testrange(x):\n",
    "        return x<mymax and x>=mymin\n",
    "    return testrange\n",
    "\n",
    "# Examples:\n",
    "F1=in_range(0,10)\n",
    "F2=in_range(10,20)\n",
    "\n",
    "# Test of in_range\n",
    "print (F1(0), F1(1), F1(10), F1(15), F1(20))\n",
    "print (F2(0), F2(1), F2(10), F2(15), F2(20))\n",
    "\n",
    "print (\"Number of Entries passing F1:\", len(where(data,F1)))\n",
    "print (\"Number of Entries passing F2:\", len(where(data,F2)))"
   ]
  },
  {
   "cell_type": "code",
   "execution_count": 19,
   "metadata": {},
   "outputs": [],
   "source": [
    "### BEGIN SOLUTION\n",
    "\n",
    "def even():\n",
    "    def is_even(x):\n",
    "        return x%2==0\n",
    "    return is_even\n",
    "\n",
    "def odd():\n",
    "    def is_odd(x):\n",
    "        return x%2!=0\n",
    "    return is_odd\n",
    "\n",
    "def greater_than(x):\n",
    "    def is_greater_than(y):\n",
    "        return y>x\n",
    "    return is_greater_than\n",
    "\n",
    "def less_than(x):\n",
    "    def is_less_than(y):\n",
    "        return y<x\n",
    "    return is_less_than\n",
    "\n",
    "def equal(x):\n",
    "    def is_equal(y):\n",
    "        return y==x\n",
    "    return is_equal\n",
    "\n",
    "def divisible(x):\n",
    "    def is_divisible(y):\n",
    "        return y%x==0\n",
    "    return is_divisible\n",
    "    \n",
    "    \n",
    "### END SOLUTION"
   ]
  },
  {
   "cell_type": "code",
   "execution_count": 20,
   "metadata": {},
   "outputs": [
    {
     "name": "stdout",
     "output_type": "stream",
     "text": [
      "[-1, 0, -2, -7, 5, 2, -4, 6, -1, -6, 7, -8, 6, -5, 5, -8, 1, 1, 7, -6, -3, 0, -1, 2, -5, 3, -7, 0, 4, 6, 1, 5, 9, -7, 7, 4, 5, -1, 5, -4, 3, -2, -1, -1, -2, 9, -9, -5, -3, 7, -7, -9, -4, -4, -9, -2, 6, -6, -3, -1, 9, 5, 0, 6, 0, -6, -3, 5, 1, 6, -3, -8, -5, -5, 0, -3, 3, -3, -7, 0, 0, 0, 0, 1, -9, -8, -5, -7, -8, 5, -9, -8, -2, 9, -5, 7, -7, -2, 3, -1, -7, 3, -5, 1, -7, 7, 0, 7, -4, 3, -8, -3, 6, -6, 3, -8, 1, 7, -4, 8, -2, 0, 2, 4, -2, 6, -7, -8, 9, 4, 5, 5, 3, 9, -4, 4, -9, -2, 5, -1, 0, 0, -8, 9, 5, 2, -6, -4, 1, -5, -3, -8, -9, 3, -7, 5, -5, -8, -1, -1, 2, 0, 8, -9, -3, 9, 1, -6, 7, -1, 9, -2, -2, 5, 1, 0, -9, -1, -5, 4, -7, 0, -2, -7, -6, 4, 5, -2, 8, -8, 0, 9, -3, 5, -2, 8, -1, 6, 2, 0, -8, 0, -5, 7, -1, 4, -9, 7, -4, -2, 6, -3, 5, 9, 2, -5, -3, 2, 0, 3, 6, -5, -5, -8, 4, 1, -4, 3, 0, 7, 1, -6, 7, 8, 3, 5, -1, -8, -4, -6, 7, -8, 6, 3, 9, -6, -7, -7, 5, 0, 5, -5, 1, -3, 4, 7, 2, -4, 4, 3, -3, -8, 0, -6, 8, 9, 1, 4, -6, 1, -2, 1, 3, -8, 2, -4, -3, -6, 6, -7, 0, -4, 0, 6, 7, 2, 2, 1, 2, 4, 2, 4, 8, -2, 8, -8, -7, -2, 9, -9, -7, -5, -5, -6, 3, 0, 3, -2, -2, -8, 0, 7, -8, -6, -7, 7, 5, 0, 0, 6, 9, -9, 0, -7, 7, 4, 0, 8, -6, -7, 8, 4, 4, 5, -7, -5, -7, 5, -9, 6, -3, 3, 5, -6, 5, -8, -1, 7, 4, -2, -3, -7, -8, -4, 0, 8, 0, 1, -3, -1, 0, -4, 1, -4, -2, -3, -2, 3, 4, -2, 8, -2, -2, 9, 0, 2, -2, 5, -6, -7, 8, 0, 6, -2, -2, -2, -5, 0, -4, 1, 1, 9, -6, 7, 9, -5, 8, 3, 3, 6, 9, 3, 1, 7, -4, -9, -7, -5, -9, -9, -3, -3, 6, -5, 9, 5, 3, -4, -3, 2, -1, -8, -6, -2, 3, -6, 0, -3, 5, 8, -7, 1, 0, -1, -4, -3, 2, 2, 7, -1, 0, -6, -5, -3, -9, 1, -7, 0, 6, 0, 6, -2, -5, -2, 1, -8, -1, -9, 2, 0, 7, 7, 3, 4, 9, 6, -1, 8, -8, 3, 0, 1, -3, 7, 0, -8, 6, 5, 8, 7, -3, -2, -9, 8, -3, -4, 4, -6, 0, 1, -4, 7, 3, 5, 8, 8, 2, 4, -1, 9, -1, 2, 5, 1, 7, -2, 9, -6, -8, 5, 2, -8, -6, -6, 6, -3, -7, 3, 0, 0, 5, -2, 9, 4, 6, 1, 5, 6, 1, -1, 7, -1, -6, -2, 8, -4, -5, 8, 8, -9, -1, -6, 6, -6, 2, 6, -7, 4, 0, 8, -6, -7, 9, 0, -8, 1, 2, -2, -1, -9, -7, 3, 1, 7, 9, -7, 4, 9, 0, 3, 8, 1, 2, 7, -3, -9, -5, -1, 8, 6, -6, -2, 0, -4, -5, -5, -3, 7, 1, 9, 3, -7, -6, 8, 5, 3, -8, -7, -9, 3, 5, -5, 6, 8, 7, 0, -6, 5, -6, -4, 5, 3, 9, 9, 3, -7, 8, 1, 0, 9, -1, 5, 8, 2, -7, 5, 7, -3, 2, 0, -7, 1, 8, -3, 0, 3, 5, -7, 3, 9, 6, -3, 5, 5, -4, 5, -4, -2, -3, -1, 0, 7, 9, -8, 4, 1, 4, -9, 5, 2, 0, 2, 9, -5, 8, -8, 1, 9, 8, -1, -3, 1, -2, -8, 1, -6, 7, -2, 3, -1, 7, 0, 1, -3, 1, -6, 9, -2, 2, 8, -1, 4, -7, 0, -5, 7, -7, -2, -8, 9, -9, -9, 0, 3, 0, -3, -9, 4, -1, 3, -6, 0, -7, 4, 7, 9, -1, 2, -8, 9, 0, 1, -4, -2, -7, 7, -8, -3, -5, 2, -3, 4, -8, 6, -7, 5, 5, -4, -3, -7, -9, 7, -2, 4, 4, 6, 3, -5, 7, 5, -6, -9, -6, 9, -1, -6, -1, -3, 6, -5, 9, 7, 6, 9, -3, 9, 6, -9, 5, -4, -9, 0, 0, 1, -7, -9, 5, 8, -6, 5, 3, -8, -9, -2, 0, 9, -2, 7, 8, -7, 6, 0, 4, -4, -3, -5, -4, 6, 6, 3, 6, 9, 5, 8, -3, 0, 0, 0, 4, -1, 4, 5, -1, 4, 8, 4, 5, 3, 0, -5, 9, -5, 3, -2, -2, 0, -3, -1, 9, -2, -6, 8, -4, -6, 3, 8, 7, -7, -4, -5, 0, 9, -2, -7, -9, 4, 6, 6, 6, 6, -2, -2, 5, -5, 2, 6, -5, 9, -5, -6, -5, 0, -5, -5, -1, 0, 1, -2, -6, -6, 6, -5, -5, 5, 3, 1, 4, 7, -6, -5, 1, -3, 5, 6, 9, 2, 3, 6, 0, -7, -6, 2, 0, -7, 4, 1, 6, 8, 5, 4, -1, 8, 0, 7, -6, -3, 7, -6, -4, 9, -5, 3, 5, 3, 9, 1, 5, 1, -6, -9, -1, 1, -3, 0, 8, 8, -3, -4, 8, 8, -6, 2, 6, 9, -3, 1, -4, -1, -8, 8, -9, 4, -7, 3, 8, -6, 1, -8, -6, 6, -8, -4, 2, 8, -5, 7, 8, -6, 1, -7, -4, -6, 2, -2, 7, 0, 0, -3, 7, -1, -8, -3, -2, -6, -9, 5, -6, 4, 9, 0, 1, 8, 8, 0, -6, -3, -6, -3, -6, -1, -4, 5, 9, -3, -2, -5, -9, -9, 6, -2]\n",
      "Number of Even Numbers: 477\n",
      "Number of Odd Numbers: 523\n",
      "Number of Numbers Greater than 5: 211\n",
      "Number of Numbers Less than 5: 727\n",
      "Number of Numbers Equal to 5: 62\n",
      "Number of Numbers Divisible by 5: 198\n"
     ]
    }
   ],
   "source": [
    "# Test your solution\n",
    "\n",
    "F1 = even()\n",
    "F2 = odd()\n",
    "F3 = greater_than(5)\n",
    "F4 = less_than(5)\n",
    "F5 = equal(5)\n",
    "F6 = divisible(5)\n",
    "\n",
    "print(data)\n",
    "\n",
    "print (\"Number of Even Numbers:\", len(where(data,F1)))\n",
    "print (\"Number of Odd Numbers:\", len(where(data,F2)))\n",
    "print (\"Number of Numbers Greater than 5:\", len(where(data,greater_than(5))))\n",
    "print (\"Number of Numbers Less than 5:\", len(where(data,less_than(5))))\n",
    "\n",
    "print (\"Number of Numbers Equal to 5:\", len(where(data,equal(5))))\n",
    "print (\"Number of Numbers Divisible by 5:\", len(where(data,divisible(5))) )"
   ]
  },
  {
   "cell_type": "markdown",
   "metadata": {},
   "source": [
    "*Exercise 7:* Repeat the previous exercise using `lambda` and the built-in python functions sum and map instead of your solution above. "
   ]
  },
  {
   "cell_type": "code",
   "execution_count": 21,
   "metadata": {},
   "outputs": [
    {
     "name": "stdout",
     "output_type": "stream",
     "text": [
      "Number of Even Numbers: 477\n",
      "Number of Odd Numbers: 523\n",
      "Number of Numbers Greater than 5: 211\n",
      "Number of Numbers Less than 5: 727\n",
      "Number of Numbers Equal to 5: 62\n",
      "Number of Numbers Divisible by 5: 198\n"
     ]
    }
   ],
   "source": [
    "### BEGIN SOLUTION\n",
    "\n",
    "# Define the statements as lambda functions\n",
    "statements = [\n",
    "    lambda x: x % 2 == 0,  # Even\n",
    "    lambda x: x % 2 != 0,  # Odd\n",
    "    lambda x: x > 5,       # Greater than 5\n",
    "    lambda x: x < 5,       # Less than 5\n",
    "    lambda x: x == 5,      # Equal to 5\n",
    "    lambda x: x % 5 == 0   # Divisible by 5\n",
    "]\n",
    "\n",
    "# Calculate the sums using list comprehensions\n",
    "function_results = [sum(1 for x in data if statement(x)) for statement in statements]\n",
    "\n",
    "print(f\"Number of Even Numbers: {function_results[0]}\")\n",
    "print(f\"Number of Odd Numbers: {function_results[1]}\")\n",
    "print(f\"Number of Numbers Greater than 5: {function_results[2]}\")\n",
    "print(f\"Number of Numbers Less than 5: {function_results[3]}\")\n",
    "print(f\"Number of Numbers Equal to 5: {function_results[4]}\")\n",
    "print(f\"Number of Numbers Divisible by 5: {function_results[5]}\")\n",
    "    \n",
    "### END SOLUTION"
   ]
  },
  {
   "cell_type": "markdown",
   "metadata": {},
   "source": [
    "## Monte Carlo\n",
    "\n",
    "*Exercise 7:* Write a \"generator\" function called `generate_function(func,x_min,x_max,N)`, that instead of generating a flat distribution, generates a distribution with functional form coded in `func`. Note that `func` will always be > 0.  \n",
    "\n",
    "Use the test function below and your histogramming functions above to demonstrate that your generator is working properly.\n",
    "\n",
    "Hint: A simple, but slow, solution is to a draw random number `test_x` within the specified range and another number `p` between the `min` and `max` of the function (which you will have to determine). If `p<=function(test_x)`, then place `test_x` on the output. If not, repeat the process, drawing two new numbers. Repeat until you have the specified number of generated numbers, `N`. For this problem, it's OK to determine the `min` and `max` by numerically sampling the function.  "
   ]
  },
  {
   "cell_type": "code",
   "execution_count": 22,
   "metadata": {},
   "outputs": [],
   "source": [
    "def generate_function(func,x_min,x_max,N=1000):\n",
    "    out = list()\n",
    "\n",
    "    ### BEGIN SOLUTION\n",
    "    x_samples = [x_min + (x_max - x_min) * i / N for i in range(N + 1)]\n",
    "    func_values = [func(x) for x in x_samples]\n",
    "    f_max = max(func_values)\n",
    "    \n",
    "    generated_count = 0\n",
    "    while generated_count < N:\n",
    "        test_x = random.uniform(x_min, x_max)\n",
    "        p = random.uniform(0, f_max)\n",
    "        if p <= func(test_x):\n",
    "            out.append(test_x)\n",
    "            generated_count += 1\n",
    "    \n",
    "    ### END SOLUTION\n",
    "    \n",
    "    return out"
   ]
  },
  {
   "cell_type": "code",
   "execution_count": 36,
   "metadata": {},
   "outputs": [
    {
     "name": "stdout",
     "output_type": "stream",
     "text": [
      "[0, 1] : ###\n",
      "[1, 2] : #####\n",
      "[2, 3] : #######\n",
      "[3, 4] : #######\n",
      "[4, 5] : #########\n",
      "[5, 6] : ###############\n",
      "[6, 7] : ###############\n",
      "[7, 8] : #################\n",
      "[8, 9] : ####################\n",
      "[4.801304205645303, 6.237877405743505, 9.683944621218776, 6.1316375537788925, 7.692467315918977, 9.149015785716529, 8.300672799882896, 8.32264415290785, 9.075209026224654, 9.396882479249076, 9.802504241028434, 4.308743297178647, 7.2738052530401545, 0.2946399087714391, 7.057966194168953, 7.815109961811359, 9.093839622100962, 9.425404874584698, 7.167512452431337, 3.4296480862261527, 1.8010832463406523, 7.1608811311373195, 3.7990707243245003, 2.2240787370269413, 9.372440862390802, 5.2353243948820065, 6.3898975597661725, 9.574107399790218, 8.667124330299682, 7.192117130924348, 5.599602689936733, 7.297967893526103, 2.035976903542742, 2.55741073399855, 9.891132045196274, 8.157559098068928, 9.615914346363565, 4.115068650825132, 9.095279646024208, 7.0363741492366145, 6.641117899419183, 1.5090223617145704, 5.9309691780528, 9.438100922126827, 5.841330353359458, 6.192697079612134, 6.1588181282443974, 8.760885149450262, 6.852792725283931, 9.93138312336525, 7.212931475146622, 8.333254809388023, 7.439339204317417, 9.390753810691619, 3.9630618271591733, 9.793700670301904, 7.938860120082245, 9.481925736992729, 9.294409170528713, 6.736756504831595, 1.8350332534487346, 8.291191365757086, 5.984163908707235, 8.121909802826647, 8.145527659526907, 3.8231388173352707, 8.519150571473007, 8.739518511655195, 5.219423206689509, 3.318410670770339, 8.152210307633668, 6.6028974100366336, 3.218396311701901, 6.341605944042086, 2.108806667064731, 8.15318789247603, 9.855822726661076, 7.9121269807063355, 7.77170512163792, 7.043493380280635, 8.319797837232151, 3.3543249831446023, 9.405622450348599, 3.7371466946616314, 6.250907217356323, 7.5874243559966885, 9.159371473362132, 3.255172953117027, 7.917109327861307, 5.834385547981463, 8.744510737704857, 7.314906861136722, 7.76005418390124, 6.040285806775353, 9.796210515296282, 6.954210550639324, 4.124548135787282, 4.12380146683862, 9.53119507450251, 9.937132655111638, 9.298470700798326, 2.46251588809561, 5.34781941909091, 8.732866803304226, 8.605813003606215, 5.0400527940759865, 6.911163785718611, 9.963960167595399, 9.34033451536384, 9.254166389211719, 9.509578104697248, 7.392931160053329, 6.644862064091225, 0.4940652304047599, 4.505420874984107, 4.927885498904526, 7.926358393453473, 7.082634596830476, 8.571049798621468, 2.851258037008825, 8.063733887471962, 7.709625639570788, 5.164845139824248, 8.438792021208485, 9.06438807080834, 7.426819647467768, 7.1904777948844645, 3.5999644739308847, 1.6678034336370196, 6.097846477285954, 6.665748365305495, 2.893188513798556, 1.5693019500598215, 9.839572649813185, 8.057375902077283, 9.071840574182911, 7.450706687973718, 2.9380805602783533, 7.962926698698078, 7.644122339618175, 4.6503671626150265, 9.638621776827444, 5.683117465133506, 3.2769286571069847, 7.097626556155837, 5.942253696321417, 8.59098558683514, 2.9202009429003972, 8.847623463639152, 2.4568536677122332, 9.17232257188086, 2.381240822240527, 9.981110708659495, 1.0948461379160568, 4.318770489563953, 7.387798564607325, 7.655855853716992, 9.370497803106637, 9.872854772439592, 5.564380772840711, 8.517540865117457, 9.48128289119008, 5.832982486803878, 9.337526538308259, 6.8559132031901235, 9.66269725117537, 7.470971365730313, 3.7466622140243464, 0.06358684329412334, 9.06153305855267, 6.030170921775416, 3.1033514211924795, 9.078517802286445, 8.14056718032906, 2.1800906344906226, 7.883621257954982, 6.58099726104703, 6.856199627189257, 2.7328158511046716, 9.131651148526446, 5.330652861952107, 8.013572758440114, 5.963280474463746, 3.5249100580231096, 7.666201232522351, 8.909986565014332, 6.656049465623579, 6.867609034996553, 7.603717774126622, 3.3065074449228558, 3.558365684530739, 1.8984899139883005, 9.784285082986383, 7.788989926021104, 4.460106724517793, 1.5427550783992139, 5.3597247880453285, 5.357158872447982, 9.536823481670202, 6.690008704309516, 3.6844637067103703, 3.880234429033541, 4.751090248448006, 3.3706375768762964, 7.83740614026434, 8.61964145241653, 8.696510701449995, 7.93720088575288, 7.943623666280605, 5.672511806798946, 9.23038168080312, 3.894398220631224, 5.379694225616667, 5.210811017378454, 7.89715360834959, 1.189445842377308, 2.796860634314866, 2.501067410571931, 4.92122394765608, 4.645301440258335, 8.8680743783066, 5.060561627694535, 9.978449309159483, 4.853433427238215, 5.867022175262203, 2.7033625130866747, 0.3901639866374562, 6.292901003404968, 4.232013901002206, 6.001495051909456, 9.432199961276423, 8.979939150704165, 9.779084179519439, 4.101433793968799, 5.06342486471814, 8.639145284076294, 6.722234060964272, 5.2258949707007, 2.6378141038303395, 6.2402156670273445, 4.474448106566853, 3.8275300799117806, 8.215793586019135, 5.883917768282982, 9.863840498019112, 7.3394502356856215, 4.876087057530228, 6.987662067729233, 6.990556654581356, 7.251199501460964, 8.44797001584907, 7.52779542431163, 8.354927875324702, 8.050369900842831, 9.9046706447783, 9.339070153750683, 5.689314356024956, 5.634509421744678, 1.9978474517498879, 2.6669108821905283, 6.106680019243807, 6.242878234993842, 2.6563574801013146, 2.9797901411854655, 6.746921556328988, 2.041249730616573, 8.324913338811458, 5.0264031591340474, 3.4745311624260253, 7.378110579568819, 7.916151617889705, 5.833959529067425, 9.624253413393896, 7.228661856949148, 0.9300463652238544, 5.3293817833618595, 8.626035331584939, 8.798624808276541, 6.56270599497379, 9.785996865538426, 9.55776195677581, 8.98120736342764, 5.460950396245393, 7.513333318207867, 8.347936246806555, 9.769779409651063, 8.732301967826078, 7.527190799346947, 4.499932790128117, 2.656347840980149, 6.679340538639287, 9.686391249404538, 9.932284825310019, 7.040527972876114, 2.5970651451205207, 5.684485567957603, 8.863983935390694, 6.416846325279218, 6.632791857812931, 9.646904741828559, 9.436309249427007, 5.56068325380176, 7.633079747189849, 8.404060056803424, 7.309515420038358, 9.831198013259186, 7.480030689738224, 9.27521610936053, 7.469173451045111, 5.7901300826311095, 9.472878008991408, 2.1761632117242935, 5.784759309848236, 9.321769563895106, 5.136050472322053, 8.828055678769672, 4.398750945727143, 7.0962872821095715, 8.517164457054607, 9.589298189090277, 2.003509366956421, 5.416943515762636, 1.9884147359691906, 3.913650312402389, 7.85986583619785, 4.399694333155413, 2.4273532752438376, 5.205953388506174, 4.759276523062549, 8.66262679894151, 2.1833217386087087, 6.21968317519886, 8.248084816691096, 1.5377123418368976, 7.152352587998782, 6.250042469069257, 6.48245685883837, 9.48649079593561, 8.939330879792555, 7.6798809479215215, 6.039465265400542, 5.416736158646428, 7.586791626411529, 7.989934580753908, 3.2639905439507166, 1.7778578472206763, 6.779571625080072, 6.184236083639996, 4.476179343669936, 8.765651813470154, 1.4508483513996673, 5.248026210281507, 0.6627522308123446, 4.811116328368097, 9.74827995880618, 8.408529052503361, 7.509069530223177, 5.324389637989823, 9.871853279253337, 2.8832695842063316, 0.4711044718883639, 3.4407200049981244, 4.2272300672539, 6.768215658714488, 1.1973488370373186, 4.095977034213726, 8.54385711653402, 9.657797032294532, 4.931918214259597, 9.287374727724094, 3.9566895399106317, 8.580735437001252, 4.900581084977391, 8.095578969911346, 9.060863300644591, 9.716491470594251, 8.206434954190499, 7.822082983745904, 5.490217640624111, 9.658726360930796, 2.9616087681367653, 8.113969169776183, 4.996692443124294, 9.870052415065164, 6.51455846631255, 5.939458863272932, 7.74394064909421, 9.251447451692282, 7.7633746257897585, 8.756684054140973, 9.73825308076378, 7.033130658338608, 6.852687274212893, 5.614787267988265, 2.583698473910798, 8.974708477028404, 4.453543874471616, 6.3615297308791945, 1.3477661310454958, 1.8455149986261443, 9.649362340964828, 8.685315855137258, 8.225968022028969, 0.012754820045414172, 1.4066995677371286, 1.5369393660547614, 8.266004194544255, 8.680575950217197, 7.231630400107715, 8.698029283591946, 1.4175261828300867, 9.634027556569478, 6.054214932268987, 9.836038979299623, 5.51557742019947, 6.950982521061137, 6.606003179831049, 8.765197209010115, 8.26569795716021, 9.764341041755332, 7.262410469706641, 3.269557210492402, 3.6305653011622683, 2.151255862840177, 3.0911898593344223, 8.483073519998655, 4.949610432506889, 6.508008498225407, 7.901660297815481, 6.926476340659169, 6.8015700934820975, 8.169891122759571, 5.363734257702908, 3.977500456248605, 8.572592441533791, 5.60198262506573, 6.1573330829597825, 8.504744690301552, 9.160842626656827, 9.08175787828681, 7.889508241939915, 5.581192297638983, 8.122805254888924, 8.600059365108017, 9.6123818292888, 7.581924057418215, 5.561509902903889, 1.3286778402847155, 5.597372981658134, 9.945449554689066, 6.84396996158023, 6.810834862136222, 5.624937053435325, 1.2098416355569552, 4.662721885603486, 4.770215013320486, 5.217097717212117, 5.744329671624481, 5.399458600868367, 3.8643852994542573, 8.548261595468198, 9.192758524436885, 7.94024762603815, 7.555170603178407, 6.5374004167936794, 4.457117628900984, 7.000114797686759, 1.2511856398282961, 8.221224917521676, 2.423999735502699, 2.197405597593481, 2.8919414017025566, 8.804140755809463, 4.286781509111657, 3.489530265638318, 2.374288174010779, 6.412625174570522, 7.199830222013476, 8.657058475331977, 5.454367635372579, 8.181377138720881, 2.174256254147713, 0.7510058798565866, 9.07528032339217, 7.482688213176553, 7.492672952160186, 6.607126603483177, 5.968225939306074, 7.466828809156619, 4.502455782748735, 1.4646548593345532, 8.098024633421494, 2.6247068656690677, 9.434105102071639, 7.762041636947194, 5.892590661666395, 8.837833394780837, 4.826359279667849, 5.706801120296388, 9.502348095816345, 7.847950723819492, 4.831525974345453, 5.32142070181906, 1.3488713327507662, 9.829518994035073, 8.18255466258396, 5.098237333918034, 8.82765062429835, 3.91049159460099, 4.955621992075542, 4.3152052303377815, 2.899147076162658, 9.496184178276032, 9.476330135993123, 8.12342151799996, 7.645781392228046, 9.307878415337173, 2.5330830186219453, 4.753292593273812, 6.351235195718349, 4.536590278760292, 1.7980982497489983, 6.764630071732572, 0.9586014246007324, 4.1789732810879565, 9.072355228562234, 5.213616288381976, 9.995275359065769, 6.666842088037333, 8.626017330712367, 8.332055433423065, 8.022395328733097, 7.094427422218335, 5.914941565908691, 4.768422213251043, 5.170280129682485, 5.497117911561347, 7.761649923692219, 8.403152056377346, 9.619896936416758, 7.551673791292874, 6.610823343408648, 6.597685397782078, 9.527827803706282, 7.456462682795836, 9.96912475854431, 9.628238828245543, 9.883839402172912, 9.926192491613222, 6.523673905977745, 9.467959917231964, 9.710588011758484, 6.860506139506826, 6.604704549572601, 9.118995496203127, 8.795146888186995, 9.184441258727649, 6.7176327286534345, 3.5631208063713773, 0.7585429367972718, 9.000333389173306, 5.891843737717099, 6.940109180226885, 8.71171014645078, 7.289700676900831, 9.794967520905827, 4.090453214516433, 5.098459802736758, 9.624433599367336, 5.443291893994369, 8.965329463470276, 4.704905754145158, 8.926026839516105, 3.0221047696374015, 9.005694112408783, 8.85178902444341, 7.794919166647838, 3.7781240180390476, 9.106256890114967, 5.839716273927728, 9.482108868941317, 9.287033626424762, 2.5072120487783223, 1.7568532494770817, 8.284155448519211, 8.919264900335138, 5.427596342424632, 8.274234256803783, 5.47640605575589, 3.5798431256165255, 4.145511074034005, 0.659299362150646, 6.727563356592227, 0.6441739867212615, 0.05826067716620309, 8.782910777797156, 4.295614268655205, 4.043201414758608, 3.0201369878541517, 7.998372677736848, 9.358193577081455, 7.436060215037483, 2.269198353864029, 6.971234335133393, 5.1340072996135975, 4.1699305838557645, 5.480232850002897, 5.754246338025862, 9.5550338667296, 5.297635682977631, 6.294591961874839, 0.50523550035382, 8.173578724436112, 8.302318515285041, 8.612359491654649, 9.378957514010644, 6.56956588896072, 0.9804995363044589, 8.373028028587445, 8.876533223368678, 8.943325810794441, 6.104288167926281, 3.9091170897145244, 7.417316228561582, 3.5706285341016883, 2.841066762635349, 0.7844312315811708, 9.898690614165146, 8.525795096031004, 4.023522198500852, 7.478494066472323, 2.8528635119471923, 7.693910100900576, 5.058206838300199, 7.939138595126912, 1.5437774223539547, 4.746722176148398, 9.654905393727494, 8.124522312625796, 3.796820522984526, 9.089265049603206, 8.078537033332665, 3.372523621134075, 5.078684595730154, 8.003967198185725, 8.358727566879546, 9.78834025431778, 3.536757160056123, 9.484864047928298, 5.158803980620297, 1.5387086419914942, 2.136710791373855, 9.896738954755147, 2.1636242506629557, 9.442949430227232, 9.81003215618767, 6.835850809074819, 9.87150697476608, 8.80039546247431, 8.192439586272485, 9.891752633073487, 7.820824608914951, 5.229826991674993, 7.657530088561137, 5.226563975426965, 3.2002366774833604, 8.714491490011033, 4.354795381765726, 7.911038281751372, 7.5658517086877275, 0.6048221163259404, 7.3102401957235195, 6.679267790851537, 5.879610521321248, 4.845740109426417, 3.566892516885293, 1.0414408618499738, 3.898348393992145, 7.609529309675876, 9.793992022648238, 9.640498593705171, 5.355547468822435, 8.929660663058188, 3.3501479826652227, 9.463576393198455, 5.859330784505157, 9.29931026842001, 8.078980052698112, 9.262610313279485, 6.878969946369264, 9.80766916518936, 8.735777060473565, 4.0970399376567315, 9.456471958239591, 4.678741810019323, 2.9292934896151146, 5.601260341712946, 6.507679451670008, 6.6465039333048175, 7.737552366980117, 9.306458250661088, 9.337743627667644, 4.205797675448385, 5.462077173648336, 6.722543440164372, 9.097022031619522, 5.376763352118109, 1.975090449374941, 8.629861180966413, 4.238705804139644, 6.56979916124489, 6.707322574751076, 0.5687981253970675, 8.378136491497429, 5.112630353160654, 6.808312915536794, 8.482600555261543, 7.233134875882802, 4.784192818612013, 9.918928468807751, 7.509455206989751, 9.568838705010382, 5.214838285616583, 8.059109615591026, 4.2982825048874, 6.02528137062746, 9.186007574941192, 8.943456668433573, 2.356381585717501, 8.925740770622518, 7.264117566258193, 3.5721998986484604, 6.717606787310155, 9.0869421361883, 5.271334576342154, 6.788143623247114, 8.997609112290904, 9.726379614992407, 9.127346487219603, 6.468189825221529, 3.936410975731021, 8.283665210593472, 4.801431869702161, 1.9778775411432237, 6.591010119311191, 1.8382694603266014, 7.628515311546597, 6.064510359666353, 8.371345732032617, 7.88017599298578, 6.781869090801036, 9.715411201956954, 3.684117740106446, 8.734519171242697, 3.3368009338146276, 5.195923708032849, 9.9878937655752, 2.2652594548369356, 5.503434938995841, 1.3830005213371965, 9.680026983241481, 9.659493938258175, 8.928105416850109, 6.991021874244825, 5.624361324665458, 8.187729848407642, 9.878986728169146, 5.160782106282495, 8.23608737661225, 5.4128270016223565, 9.23282374792866, 9.26172771258594, 6.018292421775264, 2.326718535548137, 6.424406910048457, 7.971534902204352, 1.0446841824212472, 7.954508316682656, 9.597066581260167, 6.629776960454875, 9.810190168912872, 7.730616150742619, 4.560324614846057, 9.525005200108614, 5.588489860220337, 3.0331086239130336, 5.407075993894045, 8.294728525647693, 7.767768883214842, 9.683965212716073, 7.0482257697479085, 2.277579547010018, 5.138237182483372, 6.209492121057735, 6.576895342103045, 4.186461644240693, 8.26906682771783, 2.5744806412380816, 9.526812054026031, 9.378117835373974, 8.94507122096875, 7.05703395253709, 9.218997983513242, 8.342635678452806, 9.1228319516733, 9.484500882431742, 5.694044413285507, 3.2806165388582165, 9.526410172619665, 5.142244937637308, 7.72810084628208, 5.793888368653203, 5.244319990959481, 8.442404432038435, 6.28592187357723, 9.892675256055792, 8.832118225232726, 6.554639154784178, 8.214279502296355, 3.952206027790802, 1.4672015158965768, 8.318582171383579, 8.934849681452329, 7.846965585909373, 6.386825468495372, 9.826950132183418, 9.737044726039816, 7.885780026368153, 8.699039903506128, 3.7271642290326543, 9.50830348342294, 7.859352677377962, 3.876095050663373, 9.79874209250955, 8.35309783180409, 8.323314498159924, 7.284348648755827, 6.431606074041685, 2.576835386023207, 1.088863770605052, 1.9564026669538936, 7.409826299224581, 3.616316897615878, 7.730965178838888, 9.50732142845122, 4.5572994319290725, 9.30481444257493, 7.978834747726527, 4.899062329759215, 4.713619733694174, 5.131066119649188, 9.950968035198379, 2.961487367449911, 9.0693928353827, 9.657294652033832, 7.631926726517532, 6.268758960121162, 7.592167736722535, 6.554366382755349, 6.718620773960861, 9.3577614981073, 8.937712486239146, 1.0307384695182753, 9.808727804978824, 8.289057624168377, 6.696371671652058, 8.964894083768677, 8.957473478147456, 6.526328431343623, 6.784556597805814, 4.529928884457329, 9.887520280818443, 6.710076108518857, 5.7752353301897035, 1.0884336322826471, 2.283844091984589, 2.840278882547257, 5.074979850759483, 9.856962957184603, 7.798139559845433, 6.98967987066479, 9.537910073533592, 6.523623414162332, 8.148479304140333, 2.763472038603232, 6.939594913346937, 8.537988250860556, 9.700892739323633, 1.564918593214153, 9.331993978423665, 4.570209109097539, 5.520813062930541, 9.987599712769995, 5.051279511375327, 6.943423158342975, 7.188187739569458, 5.292638912094163, 8.430902087624217, 3.4202369551900946, 8.457903960648464, 5.065291693369417, 1.7516121119358374, 7.84629858868332, 8.027349766608955, 4.098913274776584, 8.004933066423481, 7.932656166049085, 4.44310356193477, 0.31684858645701697, 0.8209275569211905, 7.4048065315464315, 3.1999929537660563, 5.256086666689265, 5.183644600181136, 9.795305707831787, 4.7179267948787995, 4.569158872512174, 1.2980562811433383, 8.23239144804481, 9.34483723601929, 5.465793112220018, 7.9833163474264515, 5.768638159508221, 7.903392207814766, 5.633295868255809, 0.9604474164590182, 9.47062520675192, 9.422818957585196, 4.096511692208117, 9.196641320557177, 6.8838542533341, 9.788149121318215, 9.853090958153976, 7.25834441126958, 8.016454510687433, 0.10513713579548667, 4.618144715660556, 6.427348131397795, 3.1858365221680165, 9.362781280747507, 5.714956856009109, 6.785391440165132, 7.816774685639986, 9.318060970242714, 2.362139535144344, 0.9639160205353814, 8.762246642069442, 9.741960923917459, 3.077702667471731, 8.547002216214224, 5.630949592409119, 6.766160384600612, 1.6043620479167553, 2.506495934590279, 9.708326479460169, 2.637853208631409, 4.077425160213723, 7.876704207815814, 7.690954191644376, 5.403769958620753, 5.405980530413333, 7.445403519812159, 8.181302802488574, 8.970604098101795, 4.842632109288257, 4.90881278009732, 2.975577664763669, 5.418032623574901, 7.455910632725047, 6.712727646119445, 7.7412118668925824, 9.080150287422144, 7.482590531284834, 9.772585786125873, 8.110527116743706, 8.99466513899426, 6.116224522819088, 2.2601908776019686, 6.933555291991666, 7.747596464546239, 5.229344142326582, 7.578612906460843, 5.240510725202072, 1.8409979699812729, 6.9391216501279, 9.776512887021592, 5.242257305334842, 8.782225447086821, 2.4322003915078327, 1.80136631943986, 6.356391210373805, 6.704876637377492, 7.456052050304569, 9.331285751589437, 8.122285411621506, 7.0357497775487685, 9.246082808241354, 5.1466696252859006, 5.269150500105085, 6.169892087020006]\n"
     ]
    }
   ],
   "source": [
    "# A test function\n",
    "def test_func(x,a=1,b=1):\n",
    "    return abs(a*x+b)\n",
    "\n",
    "# Generate data using the test function\n",
    "data = generate_function(lambda x: test_func(x),0,10,1000)\n",
    "\n",
    "h,b=histogram(data,20)\n",
    "\n",
    "draw_histogram(h,b)\n",
    "\n",
    "print(data)"
   ]
  },
  {
   "cell_type": "markdown",
   "metadata": {},
   "source": [
    "*Exercise 8:* Use your function to generate 1000 numbers that are normal distributed, using the `gaussian` function below. Confirm the mean and variance of the data is close to the mean and variance you specify when building the Gaussian. Histogram the data. "
   ]
  },
  {
   "cell_type": "code",
   "execution_count": 24,
   "metadata": {},
   "outputs": [],
   "source": [
    "import math\n",
    "\n",
    "def gaussian(mean, sigma):\n",
    "    def f(x):\n",
    "        return math.exp(-((x-mean)**2)/(2*sigma**2))/math.sqrt(math.pi*sigma)\n",
    "    return f\n",
    "\n",
    "# Example Instantiation\n",
    "g1=gaussian(0,1)\n",
    "g2=gaussian(10,3)\n",
    "\n",
    "# Test of Gaussian\n",
    "print (g1(0),g1(1),g1(-1))\n"
   ]
  },
  {
   "cell_type": "markdown",
   "metadata": {},
   "source": [
    "*Exercise 9:* Combine your `generate_function`, `where`, and `in_range` functions above to create an integrate function. Use your integrate function to show that approximately 68% of Normal distribution is within one variance."
   ]
  },
  {
   "cell_type": "code",
   "execution_count": 25,
   "metadata": {},
   "outputs": [],
   "source": [
    "def integrate(func, x_min, x_max, n_points=1000):\n",
    "    \n",
    "    return integral"
   ]
  },
  {
   "cell_type": "code",
   "execution_count": null,
   "metadata": {},
   "outputs": [],
   "source": []
  }
 ],
 "metadata": {
  "kernelspec": {
   "display_name": "Python 3",
   "language": "python",
   "name": "python3"
  },
  "language_info": {
   "codemirror_mode": {
    "name": "ipython",
    "version": 3
   },
   "file_extension": ".py",
   "mimetype": "text/x-python",
   "name": "python",
   "nbconvert_exporter": "python",
   "pygments_lexer": "ipython3",
   "version": "3.12.1"
  }
 },
 "nbformat": 4,
 "nbformat_minor": 2
}
