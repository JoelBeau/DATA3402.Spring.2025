{
 "cells": [
  {
   "cell_type": "markdown",
   "metadata": {},
   "source": [
    "# Lab 5\n"
   ]
  },
  {
   "cell_type": "markdown",
   "metadata": {},
   "source": [
    "Matrix Representation: In this lab you will be creating a simple linear algebra system. In memory, we will represent matrices as nested python lists as we have done in lecture. In the exercises below, you are required to explicitly test every feature you implement, demonstrating it works.\n",
    "\n",
    "1. Create a `matrix` class with the following properties:\n",
    "    * It can be initialized in 2 ways:\n",
    "        1. with arguments `n` and `m`, the size of the matrix. A newly instanciated matrix will contain all zeros.\n",
    "        2. with a list of lists of values. Note that since we are using lists of lists to implement matrices, it is possible that not all rows have the same number of columns. Test explicitly that the matrix is properly specified.\n",
    "    * Matrix instances `M` can be indexed with `M[i][j]` and `M[i,j]`.\n",
    "    * Matrix assignment works in 2 ways:\n",
    "        1. If `M_1` and `M_2` are `matrix` instances `M_1=M_2` sets the values of `M_1` to those of `M_2`, if they are the same size. Error otherwise.\n",
    "        2. In example above `M_2` can be a list of lists of correct size.\n"
   ]
  },
  {
   "cell_type": "markdown",
   "metadata": {},
   "source": [
    "2. Add the following methods:\n",
    "    * `shape()`: returns a tuple `(n,m)` of the shape of the matrix.\n",
    "    * `transpose()`: returns a new matrix instance which is the transpose of the matrix.\n",
    "    * `row(n)` and `column(n)`: that return the nth row or column of the matrix M as a new appropriately shaped matrix object.\n",
    "    * `to_list()`: which returns the matrix as a list of lists.\n",
    "    *  `block(n_0,n_1,m_0,m_1)` that returns a smaller matrix located at the n_0 to n_1 columns and m_0 to m_1 rows. \n",
    "    * (Extra credit) Modify `__getitem__` implemented above to support slicing.\n",
    "        "
   ]
  },
  {
   "cell_type": "markdown",
   "metadata": {},
   "source": [
    "3. Write functions that create special matrices (note these are standalone functions, not member functions of your `matrix` class):\n",
    "    * `constant(n,m,c)`: returns a `n` by `m` matrix filled with floats of value `c`.\n",
    "    * `zeros(n,m)` and `ones(n,m)`: return `n` by `m` matrices filled with floats of value `0` and `1`, respectively.\n",
    "    * `eye(n)`: returns the n by n identity matrix."
   ]
  },
  {
   "cell_type": "markdown",
   "metadata": {},
   "source": [
    "4. Add the following member functions to your class. Make sure to appropriately test the dimensions of the matrices to make sure the operations are correct.\n",
    "    * `M.scalarmul(c)`: a matrix that is scalar product $cM$, where every element of $M$ is multiplied by $c$.\n",
    "    * `M.add(N)`: adds two matrices $M$ and $N$. Don’t forget to test that the sizes of the matrices are compatible for this and all other operations.\n",
    "    * `M.sub(N)`: subtracts two matrices $M$ and $N$.\n",
    "    * `M.mat_mult(N)`: returns a matrix that is the matrix product of two matrices $M$ and $N$.\n",
    "    * `M.element_mult(N)`: returns a matrix that is the element-wise product of two matrices $M$ and $N$.\n",
    "    * `M.equals(N)`: returns true/false if $M==N$."
   ]
  },
  {
   "cell_type": "markdown",
   "metadata": {},
   "source": [
    "5. Overload python operators to appropriately use your functions in 4 and allow expressions like:\n",
    "    * 2*M\n",
    "    * M*2\n",
    "    * M+N\n",
    "    * M-N\n",
    "    * M*N\n",
    "    * M==N\n",
    "    * M=N\n"
   ]
  },
  {
   "cell_type": "markdown",
   "metadata": {},
   "source": [
    "6. Demonstrate the basic properties of matrices with your matrix class by creating two 2 by 2 example matrices using your Matrix class and illustrating the following:\n",
    "\n",
    "$$\n",
    "(AB)C=A(BC)\n",
    "$$\n",
    "$$\n",
    "A(B+C)=AB+AC\n",
    "$$\n",
    "$$\n",
    "AB\\neq BA\n",
    "$$\n",
    "$$\n",
    "AI=A\n",
    "$$"
   ]
  },
  {
   "cell_type": "code",
   "execution_count": null,
   "metadata": {},
   "outputs": [
    {
     "name": "stdout",
     "output_type": "stream",
     "text": [
      "Block (0, 2, 0, 2):\n",
      "1 2\n",
      "4 5\n"
     ]
    }
   ],
   "source": [
    "class Matrix:\n",
    "\n",
    "    def __init__(self, n, m, value=0):\n",
    "        self.__n = n\n",
    "        self.__m = m\n",
    "        self.M= [[value] * m for _ in range(n)]\n",
    "    \n",
    "    def __init__(self, data):\n",
    "        self.__n= len(data)\n",
    "        self.__m = len(data[0])\n",
    "        self.M = data\n",
    "\n",
    "    def __getitem__(self, index):\n",
    "        if isinstance(index, tuple):\n",
    "            i, j = index\n",
    "            return self.M[i][j]\n",
    "        elif isinstance(index, slice):\n",
    "            return Matrix(self.M[index])\n",
    "        elif isinstance(index, int):\n",
    "            return self.M[index]\n",
    "        else:\n",
    "            raise TypeError(\"Invalid index type\")\n",
    "    \n",
    "    def __setitem__(self, index, value):\n",
    "        if isinstance(index, tuple):\n",
    "            i, j = index\n",
    "            self.M[i][j] = value\n",
    "        elif isinstance(index, int):\n",
    "            self.M[index] = value\n",
    "        else:\n",
    "            raise TypeError(\"Invalid index type\")\n",
    "        \n",
    "    def __str__(self):\n",
    "        result = \"\"\n",
    "        for row in self.M:\n",
    "            result += ' '.join(map(str, row)) + '\\n'\n",
    "        return result.strip()\n",
    "    \n",
    "    def shape(self):\n",
    "        return (self.__n, self.__m)\n",
    "    \n",
    "    def transpose(self):\n",
    "        transposed = [[self.M[j][i] for j in range(self.__n)] for i in range(self.__m)]\n",
    "        return Matrix(transposed)\n",
    "\n",
    "    def row(self, i):\n",
    "        return Matrix(self.M[i])\n",
    "    \n",
    "    def column(self, j):\n",
    "        col = [[self.M[i][j]] for i in range(self.__n)]\n",
    "        return Matrix(col)\n",
    "    \n",
    "    def to_list(self):\n",
    "        return self.M\n",
    "\n",
    "    def block(self, n_0, n_1, m_0, m_1):\n",
    "        block = [row[m_0:m_1] for row in self.M[n_0:n_1]]\n",
    "        return Matrix(block)\n",
    "    \n",
    "    def constant(self, n, m, c):\n",
    "        return Matrix(n, m, c)\n",
    "    \n",
    "    def zeroes(self, n, m):\n",
    "        return Matrix(n, m)\n",
    "    \n",
    "    def ones(self, n, m):\n",
    "        return Matrix(n, m, 1)\n",
    "    \n",
    "    def eye(self, n):\n",
    "        eye = Matrix(n, n)\n",
    "        for i in range(n):\n",
    "            eye[i, i] = 1\n",
    "        return eye\n",
    "\n",
    "    def scalarmul(self, c):\n",
    "        return [[c * self.M[i][j] for j in range(self.__m)] for i in range(self.__n)])\n",
    "\n",
    "\n",
    "\n",
    "\n",
    "mat = Matrix([[1, 2], [4, 5], [7, 8]])\n",
    "n, m = mat.shape()\n",
    "# Test block\n",
    "\n",
    "\n",
    "\n"
   ]
  }
 ],
 "metadata": {
  "kernelspec": {
   "display_name": "Python 3",
   "language": "python",
   "name": "python3"
  },
  "language_info": {
   "codemirror_mode": {
    "name": "ipython",
    "version": 3
   },
   "file_extension": ".py",
   "mimetype": "text/x-python",
   "name": "python",
   "nbconvert_exporter": "python",
   "pygments_lexer": "ipython3",
   "version": "3.12.1"
  }
 },
 "nbformat": 4,
 "nbformat_minor": 2
}
