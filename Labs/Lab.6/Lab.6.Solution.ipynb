{
 "cells": [
  {
   "cell_type": "markdown",
   "metadata": {},
   "source": [
    "# Lab 6"
   ]
  },
  {
   "cell_type": "markdown",
   "metadata": {},
   "source": [
    "You are tasked with evaluating card counting strategies for black jack. In order to do so, you will use object oriented programming to create a playable casino style black jack game where a computer dealer plays against $n$ computer players and possibily one human player. If you don't know the rules of blackjack or card counting, please google it. \n",
    "\n",
    "A few requirements:\n",
    "* The game should utilize multiple 52-card decks. Typically the game is played with 6 decks.\n",
    "* Players should have chips.\n",
    "* Dealer's actions are predefined by rules of the game (typically hit on 16). \n",
    "* The players should be aware of all shown cards so that they can count cards.\n",
    "* Each player could have a different strategy.\n",
    "* The system should allow you to play large numbers of games, study the outcomes, and compare average winnings per hand rate for different strategies."
   ]
  },
  {
   "cell_type": "markdown",
   "metadata": {},
   "source": [
    "1. Begin by creating a classes to represent cards and decks. The deck should support more than one 52-card set. The deck should allow you to shuffle and draw cards. Include a \"plastic\" card, placed randomly in the deck. Later, when the plastic card is dealt, shuffle the cards before the next deal."
   ]
  },
  {
   "cell_type": "markdown",
   "metadata": {},
   "source": [
    "2. Now design your game on a UML diagram. You may want to create classes to represent, players, a hand, and/or the game. As you work through the lab, update your UML diagram. At the end of the lab, submit your diagram (as pdf file) along with your notebook. "
   ]
  },
  {
   "cell_type": "markdown",
   "metadata": {},
   "source": [
    "3. Begin with implementing the skeleton (ie define data members and methods/functions, but do not code the logic) of the classes in your UML diagram."
   ]
  },
  {
   "cell_type": "markdown",
   "metadata": {},
   "source": [
    "4. Complete the implementation by coding the logic of all functions. For now, just implement the dealer player and human player."
   ]
  },
  {
   "cell_type": "markdown",
   "metadata": {},
   "source": [
    "5.  Test. Demonstrate game play. For example, create a game of several dealer players and show that the game is functional through several rounds."
   ]
  },
  {
   "cell_type": "markdown",
   "metadata": {},
   "source": [
    "6. Implement a new player with the following strategy:\n",
    "\n",
    "    * Assign each card a value: \n",
    "        * Cards 2 to 6 are +1 \n",
    "        * Cards 7 to 9 are 0 \n",
    "        * Cards 10 through Ace are -1\n",
    "    * Compute the sum of the values for all cards seen so far.\n",
    "    * Hit if sum is very negative, stay if sum is very positive. Select a threshold for hit/stay, e.g. 0 or -2.  "
   ]
  },
  {
   "cell_type": "markdown",
   "metadata": {},
   "source": [
    "7. Create a test scenario where one player, using the above strategy, is playing with a dealer and 3 other players that follow the dealer's strategy. Each player starts with same number of chips. Play 50 rounds (or until the strategy player is out of money). Compute the strategy player's winnings. You may remove unnecessary printouts from your code (perhaps implement a verbose/quiet mode) to reduce the output."
   ]
  },
  {
   "cell_type": "markdown",
   "metadata": {},
   "source": [
    "8. Create a loop that runs 100 games of 50 rounds, as setup in previous question, and store the strategy player's chips at the end of the game (aka \"winnings\") in a list. Histogram the winnings. What is the average winnings per round? What is the standard deviation. What is the probabilty of net winning or lossing after 50 rounds?\n"
   ]
  },
  {
   "cell_type": "markdown",
   "metadata": {},
   "source": [
    "9. Repeat previous questions scanning the value of the threshold. Try at least 5 different threshold values. Can you find an optimal value?"
   ]
  },
  {
   "cell_type": "markdown",
   "metadata": {},
   "source": [
    "10. Create a new strategy based on web searches or your own ideas. Demonstrate that the new strategy will result in increased or decreased winnings. "
   ]
  },
  {
   "cell_type": "code",
   "execution_count": null,
   "metadata": {},
   "outputs": [
    {
     "name": "stdout",
     "output_type": "stream",
     "text": [
      "Dealer's face-up card: 8C\n",
      "Player 1: [AD, 10S] (Value: 21) \n",
      "Player 2: [10H, 6C] (Value: 16) \n",
      "Human: [2H, 4D] (Value: 6) \n"
     ]
    }
   ],
   "source": [
    "import random\n",
    "import matplotlib.pyplot as plt\n",
    "import numpy as np\n",
    "\n",
    "class Card:\n",
    "    def __init__(self, suit, rank):\n",
    "        self.suit = suit\n",
    "        self.rank = rank\n",
    "        self.value = self.get_value()\n",
    "\n",
    "    def get_value(self):\n",
    "        if self.rank in ['J', 'Q', 'K']:\n",
    "            return 10\n",
    "        elif self.rank == 'A':\n",
    "            return 11  # Can be adjusted to 1 in gameplay\n",
    "        else:\n",
    "            return int(self.rank)\n",
    "\n",
    "    def __repr__(self):\n",
    "        return f\"{self.rank}{self.suit}\"\n",
    "\n",
    "class Deck:\n",
    "    suits = ['H', 'D', 'C', 'S']\n",
    "    ranks = ['2', '3', '4', '5', '6', '7', '8', '9', '10', 'J', 'Q', 'K', 'A']\n",
    "\n",
    "    def __init__(self, num_decks=6):\n",
    "        self.num_decks = num_decks\n",
    "        self.cards = self.generate_deck()\n",
    "        self.shuffle()\n",
    "        self.plastic_card_position = random.randint(15, len(self.cards) - 15)\n",
    "    \n",
    "    def generate_deck(self):\n",
    "        return [Card(suit, rank) for suit in self.suits for rank in self.ranks] * self.num_decks\n",
    "    \n",
    "    def shuffle(self):\n",
    "        random.shuffle(self.cards)\n",
    "    \n",
    "    def draw_card(self):\n",
    "        if len(self.cards) == self.plastic_card_position:\n",
    "            self.shuffle()\n",
    "        return self.cards.pop() if self.cards else None\n",
    "\n",
    "class Player:\n",
    "    def __init__(self, name, chips=1000, is_human=False):\n",
    "        self.name = name\n",
    "        self.chips = chips\n",
    "        self.hand = []\n",
    "        self.is_human = is_human\n",
    "    \n",
    "    def place_bet(self, amount):\n",
    "        if amount <= self.chips:\n",
    "            self.chips -= amount\n",
    "            return amount\n",
    "        return 0\n",
    "    \n",
    "    def receive_card(self, card):\n",
    "        self.hand.append(card)\n",
    "    \n",
    "    def show_hand(self):\n",
    "        return self.hand\n",
    "\n",
    "    def hand_value(self):\n",
    "        value = sum(card.value for card in self.hand)\n",
    "        num_aces = sum(1 for card in self.hand if card.rank == 'A')\n",
    "        while value > 21 and num_aces:\n",
    "            value -= 10\n",
    "            num_aces -= 1\n",
    "        return value\n",
    "\n",
    "    def has_busted(self):\n",
    "        return self.hand_value() > 21\n",
    "\n",
    "    def should_hit(self, dealer_face_up_card):\n",
    "        self.print_status()\n",
    "        if self.is_human:\n",
    "            while True:\n",
    "                choice = input(f\"{self.name}, your hand: {self.show_hand()} (Value: {self.hand_value()}). Dealer's face-up card: {dealer_face_up_card}. Hit or Stay? (h/s): \")\n",
    "                if choice.lower() in ['h', 's']:\n",
    "                    decision = \"hit\" if choice.lower() == 'h' else \"stay\"\n",
    "                    print(f\"{self.name} decided to {decision}.\")\n",
    "                    return choice.lower() == 'h'\n",
    "        return self.hand_value() < 12\n",
    "    \n",
    "    def print_status(self):\n",
    "        print(f\"{self.name}: {self.show_hand()} (Value: {self.hand_value()}) {'BUSTED' if self.has_busted() else ''}\")\n",
    "\n",
    "class Dealer(Player):\n",
    "    def __init__(self):\n",
    "        super().__init__(name=\"Dealer\")\n",
    "    \n",
    "    def should_hit(self):\n",
    "        return self.hand_value() < 17\n",
    "\n",
    "class BlackjackGame:\n",
    "    def __init__(self, num_players=1, include_human=False):\n",
    "        self.deck = Deck()\n",
    "        self.dealer = Dealer()\n",
    "        self.players = [Player(f\"Player {i+1}\") for i in range(num_players)]\n",
    "        if include_human:\n",
    "            self.human_player = Player(\"Human\", is_human=True)\n",
    "            self.players.append(self.human_player)\n",
    "        else:\n",
    "            self.human_player = None\n",
    "    \n",
    "    def determine_winner(self):\n",
    "        dealer_value = self.dealer.hand_value()\n",
    "        print(\"\\n--- Round Results ---\")\n",
    "        for player in self.players:\n",
    "            player_value = player.hand_value()\n",
    "            if player.has_busted():\n",
    "                print(f\"{player.name} BUSTED! Dealer wins.\")\n",
    "            elif self.dealer.has_busted():\n",
    "                print(f\"Dealer BUSTED! {player.name} wins.\")\n",
    "            elif player_value > dealer_value:\n",
    "                print(f\"{player.name} wins with {player_value} over dealer's {dealer_value}.\")\n",
    "            elif player_value < dealer_value:\n",
    "                print(f\"Dealer wins against {player.name}. {player_value} vs {dealer_value}.\")\n",
    "            else:\n",
    "                print(f\"{player.name} and Dealer tied at {player_value}.\")\n",
    "        print(\"--------------------\\n\")\n",
    "    \n",
    "    def play_round(self):\n",
    "\n",
    "        print(\"\\n--- New Round ---\")\n",
    "\n",
    "        print(\"Placing bets...\")\n",
    "        for player in self.players:\n",
    "            bet = player.place_bet(10)\n",
    "            if player.is_human:\n",
    "                print(f\"What is your bet?\")\n",
    "                bet = int(input())\n",
    "            print(f\"{player.name} placed a bet of {bet}.\")\n",
    "        \n",
    "        \n",
    "\n",
    "        for player in self.players:\n",
    "            player.receive_card(self.deck.draw_card())\n",
    "            player.receive_card(self.deck.draw_card())\n",
    "        self.dealer.receive_card(self.deck.draw_card())\n",
    "        dealer_face_up_card = self.deck.draw_card()\n",
    "        self.dealer.receive_card(dealer_face_up_card)\n",
    "        \n",
    "        print(f\"Dealer's face-up card: {dealer_face_up_card}\")\n",
    "\n",
    "        # Print current hands\n",
    "        for player in self.players:\n",
    "            player.print_status()\n",
    "        \n",
    "        # Players place bets\n",
    "        \n",
    "  \n",
    "\n",
    "# Run a playable game with a human player\n",
    "game = BlackjackGame(num_players=2, include_human=True)\n",
    "game.play_round()\n"
   ]
  }
 ],
 "metadata": {
  "kernelspec": {
   "display_name": "Python 3",
   "language": "python",
   "name": "python3"
  },
  "language_info": {
   "codemirror_mode": {
    "name": "ipython",
    "version": 3
   },
   "file_extension": ".py",
   "mimetype": "text/x-python",
   "name": "python",
   "nbconvert_exporter": "python",
   "pygments_lexer": "ipython3",
   "version": "3.12.1"
  }
 },
 "nbformat": 4,
 "nbformat_minor": 4
}
